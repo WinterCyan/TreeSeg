{
 "cells": [
  {
   "cell_type": "code",
   "execution_count": 2,
   "metadata": {},
   "outputs": [],
   "source": [
    "import matplotlib.pyplot as plt\n",
    "import numpy as np\n",
    "from PIL import Image\n",
    "import rasterio"
   ]
  },
  {
   "cell_type": "code",
   "execution_count": 3,
   "metadata": {},
   "outputs": [],
   "source": [
    "def read_method(method:str=''):\n",
    "    if method == 'Image' or method == '':\n",
    "        return Image.open\n",
    "    if method == 'rasterio':\n",
    "        return rasterio.open\n",
    "    if method == 'numpy':\n",
    "        return np.load\n",
    "\n",
    "\n",
    "def image_normalize(im, axis = (0,1), c = 1e-8):\n",
    "    return (im - im.mean(axis)) / (im.std(axis) + c)"
   ]
  },
  {
   "cell_type": "code",
   "execution_count": null,
   "metadata": {},
   "outputs": [],
   "source": [
    "rootdir=\"/home/lenovo/treeseg-dataset/full_process/sample_108\"\n",
    "type=\"pan\"\n",
    "area=\"68\"\n",
    "r=3\n",
    "c=3\n",
    "im = read_method('rasterio')(f\"{rootdir}/pan-0-area{area}-r{r}c{c}.png\").read(1)\n",
    "arr = np.array(im)\n",
    "im2 = read_method('rasterio')(f\"{rootdir}/ndvi-0-area{area}-r{r}c{c}.png\").read(1)\n",
    "arr2 = np.array(im2)\n",
    "\n",
    "im3 = read_method('rasterio')(f\"{rootdir}/annotation-0-area{area}-r{r}c{c}.png\").read(1)\n",
    "arr3 = np.array(im3)\n",
    "im4 = read_method('rasterio')(f\"{rootdir}/boundary-0-area{area}-r{r}c{c}.png\").read(1)\n",
    "arr4 = np.array(im4)\n",
    "\n",
    "print(arr.shape)\n",
    "fig = plt.figure()\n",
    "fig.add_subplot(1,4,1)\n",
    "plt.imshow(arr)\n",
    "fig.add_subplot(1,4,2)\n",
    "plt.imshow(arr2)\n",
    "fig.add_subplot(1,4,3)\n",
    "plt.imshow(arr3)\n",
    "fig.add_subplot(1,4,4)\n",
    "plt.imshow(arr4)\n",
    "plt.show()"
   ]
  }
 ],
 "metadata": {
  "kernelspec": {
   "display_name": "Python 3.6.13 ('treeseg')",
   "language": "python",
   "name": "python3"
  },
  "language_info": {
   "codemirror_mode": {
    "name": "ipython",
    "version": 3
   },
   "file_extension": ".py",
   "mimetype": "text/x-python",
   "name": "python",
   "nbconvert_exporter": "python",
   "pygments_lexer": "ipython3",
   "version": "3.6.13"
  },
  "orig_nbformat": 4,
  "vscode": {
   "interpreter": {
    "hash": "3a6493d15c4a9672c7f100c5f8a22fd387f99eafd43fcf3c6061b9b7129a9be4"
   }
  }
 },
 "nbformat": 4,
 "nbformat_minor": 2
}
