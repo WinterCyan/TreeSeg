{
 "cells": [
  {
   "cell_type": "code",
   "execution_count": 1,
   "metadata": {},
   "outputs": [
    {
     "name": "stderr",
     "output_type": "stream",
     "text": [
      "/home/lenovo/miniconda3/envs/tf-nov/lib/python3.7/site-packages/rasterio/__init__.py:220: NotGeoreferencedWarning: Dataset has no geotransform, gcps, or rpcs. The identity matrix be returned.\n",
      "  s = DatasetReader(path, driver=driver, sharing=sharing, **kwargs)\n"
     ]
    }
   ],
   "source": [
    "import cv2 as cv\n",
    "from PIL import Image\n",
    "from rasterio import open as rstopen\n",
    "from os import path\n",
    "from matplotlib import pyplot as plt\n",
    "import numpy as np\n",
    "\n",
    "p = path.abspath(path.curdir)\n",
    "img = rstopen(path.join(p,'segmap_file/segmap.png')).read(1)\n",
    "par = img[20000:30000, 10000:20000]\n",
    "par = img"
   ]
  },
  {
   "cell_type": "code",
   "execution_count": 2,
   "metadata": {},
   "outputs": [],
   "source": [
    "# ---------------------- full pipeline ----------------------\n",
    "def gau_blur(denoisy,k):\n",
    "    conn = cv.GaussianBlur(denoisy, (k,k), cv.BORDER_DEFAULT)\n",
    "    bin_conn = conn\n",
    "    bin_conn[conn>0] = 1.0\n",
    "    int_conn = (bin_conn * 255).astype(int)\n",
    "    return int_conn\n",
    "\n",
    "def pipe(img, denoisy_k, denoisy_t, conn_k):\n",
    "    # blur\n",
    "    b = cv.blur(img, (denoisy_k, denoisy_k))\n",
    "    # int\n",
    "    int_b = (b * img * 255).astype(int)\n",
    "\n",
    "    # threshold\n",
    "    bin_b = int_b\n",
    "    bin_b[int_b<denoisy_t] = 0\n",
    "    bin_b[int_b>=denoisy_t] = 255\n",
    "\n",
    "    # conn\n",
    "    denoisy = (bin_b/255).astype(float)\n",
    "    conn = gau_blur(denoisy, conn_k)\n",
    "\n",
    "    return conn"
   ]
  },
  {
   "cell_type": "code",
   "execution_count": 3,
   "metadata": {},
   "outputs": [
    {
     "name": "stderr",
     "output_type": "stream",
     "text": [
      "/home/lenovo/miniconda3/envs/tf-nov/lib/python3.7/site-packages/ipykernel_launcher.py:13: DeprecationWarning: `np.int` is a deprecated alias for the builtin `int`. To silence this warning, use `int` by itself. Doing this will not modify any behavior and is safe. When replacing `np.int`, you may wish to use e.g. `np.int64` or `np.int32` to specify the precision. If you wish to review your current use, check the release note link for additional information.\n",
      "Deprecated in NumPy 1.20; for more details and guidance: https://numpy.org/devdocs/release/1.20.0-notes.html#deprecations\n",
      "  del sys.path[0]\n"
     ]
    },
    {
     "ename": "",
     "evalue": "",
     "output_type": "error",
     "traceback": [
      "\u001b[1;31mCanceled future for execute_request message before replies were done"
     ]
    },
    {
     "ename": "",
     "evalue": "",
     "output_type": "error",
     "traceback": [
      "\u001b[1;31mThe Kernel crashed while executing code in the the current cell or a previous cell. Please review the code in the cell(s) to identify a possible cause of the failure. Click <a href='https://aka.ms/vscodeJupyterKernelCrash'>here</a> for more info. View Jupyter <a href='command:jupyter.viewOutput'>log</a> for further details."
     ]
    }
   ],
   "source": [
    "mask_par = (par/255).astype(float)\n",
    "conn33 = pipe(mask_par, 33, 15, 33)\n",
    "conn51 = pipe(mask_par, 33, 15, 51)\n",
    "conn71 = pipe(mask_par, 71, 15, 71)\n",
    "\n",
    "fig = plt.figure(figsize=(9,3))\n",
    "\n",
    "fig.add_subplot(1,3,1)\n",
    "plt.imshow(conn33)\n",
    "fig.add_subplot(1,3,2)\n",
    "plt.imshow(conn51)\n",
    "fig.add_subplot(1,3,3)\n",
    "plt.imshow(conn71)\n",
    "\n",
    "fig.savefig('segmap_file/conn-compare.png')\n"
   ]
  }
 ],
 "metadata": {
  "kernelspec": {
   "display_name": "Python 3.7.13 ('tf-nov')",
   "language": "python",
   "name": "python3"
  },
  "language_info": {
   "codemirror_mode": {
    "name": "ipython",
    "version": 3
   },
   "file_extension": ".py",
   "mimetype": "text/x-python",
   "name": "python",
   "nbconvert_exporter": "python",
   "pygments_lexer": "ipython3",
   "version": "3.7.13"
  },
  "orig_nbformat": 4,
  "vscode": {
   "interpreter": {
    "hash": "019ebb8c1f27e631e807be680a4fef18122eb8ef5da8dcbf2d8a32de3b568ee7"
   }
  }
 },
 "nbformat": 4,
 "nbformat_minor": 2
}
