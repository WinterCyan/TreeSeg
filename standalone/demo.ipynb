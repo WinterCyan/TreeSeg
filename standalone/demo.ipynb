{
 "cells": [
  {
   "cell_type": "code",
   "execution_count": 24,
   "metadata": {},
   "outputs": [],
   "source": [
    "import numpy as np\n",
    "import torch"
   ]
  },
  {
   "cell_type": "code",
   "execution_count": 25,
   "metadata": {},
   "outputs": [
    {
     "name": "stdout",
     "output_type": "stream",
     "text": [
      "tensor([[[0.2984, 0.6492, 0.6233],\n",
      "         [0.1130, 0.1377, 0.4759],\n",
      "         [0.8177, 0.0661, 0.5743]]])\n",
      "tensor([[[1., 1., 1.],\n",
      "         [1., 1., 1.],\n",
      "         [1., 1., 1.]]])\n",
      "tensor([[[10.,  1., 10.],\n",
      "         [ 1.,  1.,  1.],\n",
      "         [ 1., 10.,  1.]]])\n",
      "tensor([[[1., 0., 0.],\n",
      "         [0., 1., 0.],\n",
      "         [0., 0., 1.]]])\n"
     ]
    }
   ],
   "source": [
    "labelT = torch.rand((1,3,3))\n",
    "weightT = torch.ones((1,3,3))\n",
    "maskT = torch.zeros((1,3,3))\n",
    "print(labelT)\n",
    "print(weightT)\n",
    "\n",
    "weightT[0,0,0] = 10\n",
    "weightT[0,2,1] = 10\n",
    "weightT[0,0,2] = 10\n",
    "\n",
    "maskT[0,0,0] = 1\n",
    "maskT[0,1,1] = 1\n",
    "maskT[0,2,2] = 1\n",
    "\n",
    "print(weightT)\n",
    "print(maskT)"
   ]
  },
  {
   "cell_type": "code",
   "execution_count": 26,
   "metadata": {},
   "outputs": [
    {
     "name": "stdout",
     "output_type": "stream",
     "text": [
      "tensor([0.2984, 0.6492, 0.6233, 0.1130, 0.1377, 0.4759, 0.8177, 0.0661, 0.5743])\n",
      "tensor([10.,  1., 10.,  1.,  1.,  1.,  1., 10.,  1.])\n",
      "tensor([1., 0., 0., 0., 1., 0., 0., 0., 1.])\n"
     ]
    }
   ],
   "source": [
    "labelV = labelT.view(-1)\n",
    "weightV = weightT.view(-1)\n",
    "maskV = maskT.view(-1)\n",
    "print(labelV)\n",
    "print(weightV)\n",
    "print(maskV)"
   ]
  },
  {
   "cell_type": "code",
   "execution_count": 27,
   "metadata": {},
   "outputs": [
    {
     "name": "stdout",
     "output_type": "stream",
     "text": [
      "tensor([2.9838, 0.0000, 0.0000, 0.0000, 0.1377, 0.0000, 0.0000, 0.0000, 0.5743])\n",
      "tensor(3.6957)\n"
     ]
    }
   ],
   "source": [
    "mul = labelV * weightV * maskV\n",
    "print(mul)\n",
    "print(mul.sum())"
   ]
  },
  {
   "cell_type": "code",
   "execution_count": 28,
   "metadata": {},
   "outputs": [
    {
     "name": "stdout",
     "output_type": "stream",
     "text": [
      "torch.Size([1, 3, 3])\n",
      "tensor([[[0., 1., 1.],\n",
      "         [1., 1., 1.],\n",
      "         [0., 1., 1.]]])\n",
      "tensor([[[0.2640, 0.4674, 0.2646],\n",
      "         [0.5692, 0.1292, 0.3594],\n",
      "         [0.6486, 0.1094, 0.9916]]])\n"
     ]
    }
   ],
   "source": [
    "targets = torch.rand((2,3,3))\n",
    "input = torch.rand((1,3,3))\n",
    "label = targets[0].unsqueeze(0)\n",
    "print(label.shape)\n",
    "\n",
    "label[label>=0.5] = 1\n",
    "label[label<0.5] = 0\n",
    "\n",
    "print(label)\n",
    "print(input)"
   ]
  },
  {
   "cell_type": "code",
   "execution_count": 29,
   "metadata": {},
   "outputs": [
    {
     "name": "stdout",
     "output_type": "stream",
     "text": [
      "tensor([[[0.0000, 0.4674, 0.2646],\n",
      "         [0.5692, 0.1292, 0.3594],\n",
      "         [0.0000, 0.1094, 0.9916]]])\n",
      "tensor([[[0., 0., 0.],\n",
      "         [1., 0., 0.],\n",
      "         [0., 0., 1.]]])\n",
      "tensor([[[0., 1., 1.],\n",
      "         [1., 1., 1.],\n",
      "         [0., 1., 1.]]])\n",
      "tensor([[[ True, False, False],\n",
      "         [ True, False, False],\n",
      "         [ True, False,  True]]])\n"
     ]
    }
   ],
   "source": [
    "mul = label * input\n",
    "print(mul)\n",
    "\n",
    "rd = torch.round(mul)\n",
    "print(rd)\n",
    "\n",
    "print(label)\n",
    "\n",
    "acc = torch.eq(rd, label)\n",
    "print(acc)"
   ]
  }
 ],
 "metadata": {
  "kernelspec": {
   "display_name": "torch",
   "language": "python",
   "name": "python3"
  },
  "language_info": {
   "codemirror_mode": {
    "name": "ipython",
    "version": 3
   },
   "file_extension": ".py",
   "mimetype": "text/x-python",
   "name": "python",
   "nbconvert_exporter": "python",
   "pygments_lexer": "ipython3",
   "version": "3.7.15 (default, Nov 24 2022, 12:02:37) \n[Clang 14.0.6 ]"
  },
  "orig_nbformat": 4,
  "vscode": {
   "interpreter": {
    "hash": "2bf842d661560123fc41f3c021485f7ddf07e33ebc2af7374b5cbd88f188b0be"
   }
  }
 },
 "nbformat": 4,
 "nbformat_minor": 2
}
