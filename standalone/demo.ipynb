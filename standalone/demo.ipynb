{
 "cells": [
  {
   "cell_type": "code",
   "execution_count": 1,
   "metadata": {},
   "outputs": [],
   "source": [
    "import numpy as np\n",
    "import torch\n",
    "from unet_repo import UNet"
   ]
  },
  {
   "cell_type": "code",
   "execution_count": null,
   "metadata": {},
   "outputs": [],
   "source": [
    "net = UNet(n_channels=2, n_classes=1, bilinear=True)\n",
    "net.load_state_dict(torch.load('/Users/winter/code/pyproj/TreeSeg/checkpoints/nonorm.pth', map_location='cpu'))"
   ]
  }
 ],
 "metadata": {
  "kernelspec": {
   "display_name": "torch",
   "language": "python",
   "name": "python3"
  },
  "language_info": {
   "codemirror_mode": {
    "name": "ipython",
    "version": 3
   },
   "file_extension": ".py",
   "mimetype": "text/x-python",
   "name": "python",
   "nbconvert_exporter": "python",
   "pygments_lexer": "ipython3",
   "version": "3.7.15"
  },
  "orig_nbformat": 4,
  "vscode": {
   "interpreter": {
    "hash": "2bf842d661560123fc41f3c021485f7ddf07e33ebc2af7374b5cbd88f188b0be"
   }
  }
 },
 "nbformat": 4,
 "nbformat_minor": 2
}
