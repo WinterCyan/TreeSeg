{
 "cells": [
  {
   "cell_type": "code",
   "execution_count": 2,
   "metadata": {},
   "outputs": [],
   "source": [
    "import numpy as np\n",
    "import torch"
   ]
  },
  {
   "cell_type": "code",
   "execution_count": 3,
   "metadata": {},
   "outputs": [
    {
     "name": "stdout",
     "output_type": "stream",
     "text": [
      "tensor([[[0.9018, 0.4787, 0.3900],\n",
      "         [0.6485, 0.6399, 0.5297],\n",
      "         [0.6745, 0.8608, 0.8889]]])\n",
      "tensor([[[1., 1., 1.],\n",
      "         [1., 1., 1.],\n",
      "         [1., 1., 1.]]])\n",
      "tensor([[[10.,  1., 10.],\n",
      "         [ 1.,  1.,  1.],\n",
      "         [ 1., 10.,  1.]]])\n",
      "tensor([[[1., 0., 0.],\n",
      "         [0., 1., 0.],\n",
      "         [0., 0., 1.]]])\n"
     ]
    }
   ],
   "source": [
    "labelT = torch.rand((1,3,3))\n",
    "weightT = torch.ones((1,3,3))\n",
    "maskT = torch.zeros((1,3,3))\n",
    "print(labelT)\n",
    "print(weightT)\n",
    "\n",
    "weightT[0,0,0] = 10\n",
    "weightT[0,2,1] = 10\n",
    "weightT[0,0,2] = 10\n",
    "\n",
    "maskT[0,0,0] = 1\n",
    "maskT[0,1,1] = 1\n",
    "maskT[0,2,2] = 1\n",
    "\n",
    "print(weightT)\n",
    "print(maskT)"
   ]
  },
  {
   "cell_type": "code",
   "execution_count": 4,
   "metadata": {},
   "outputs": [
    {
     "name": "stdout",
     "output_type": "stream",
     "text": [
      "tensor([0.9018, 0.4787, 0.3900, 0.6485, 0.6399, 0.5297, 0.6745, 0.8608, 0.8889])\n",
      "tensor([10.,  1., 10.,  1.,  1.,  1.,  1., 10.,  1.])\n",
      "tensor([1., 0., 0., 0., 1., 0., 0., 0., 1.])\n"
     ]
    }
   ],
   "source": [
    "labelV = labelT.view(-1)\n",
    "weightV = weightT.view(-1)\n",
    "maskV = maskT.view(-1)\n",
    "print(labelV)\n",
    "print(weightV)\n",
    "print(maskV)"
   ]
  },
  {
   "cell_type": "code",
   "execution_count": 5,
   "metadata": {},
   "outputs": [
    {
     "name": "stdout",
     "output_type": "stream",
     "text": [
      "tensor([9.0178, 0.0000, 0.0000, 0.0000, 0.6399, 0.0000, 0.0000, 0.0000, 0.8889])\n",
      "tensor(10.5466)\n"
     ]
    }
   ],
   "source": [
    "mul = labelV * weightV * maskV\n",
    "print(mul)\n",
    "print(mul.sum())"
   ]
  },
  {
   "cell_type": "code",
   "execution_count": 6,
   "metadata": {},
   "outputs": [],
   "source": [
    "a = torch.ones((1,3,3))"
   ]
  }
 ],
 "metadata": {
  "kernelspec": {
   "display_name": "torch",
   "language": "python",
   "name": "python3"
  },
  "language_info": {
   "codemirror_mode": {
    "name": "ipython",
    "version": 3
   },
   "file_extension": ".py",
   "mimetype": "text/x-python",
   "name": "python",
   "nbconvert_exporter": "python",
   "pygments_lexer": "ipython3",
   "version": "3.7.15"
  },
  "orig_nbformat": 4,
  "vscode": {
   "interpreter": {
    "hash": "2bf842d661560123fc41f3c021485f7ddf07e33ebc2af7374b5cbd88f188b0be"
   }
  }
 },
 "nbformat": 4,
 "nbformat_minor": 2
}
