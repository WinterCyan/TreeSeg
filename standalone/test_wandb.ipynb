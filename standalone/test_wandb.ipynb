{
  "cells": [
    {
      "cell_type": "markdown",
      "metadata": {
        "id": "933033e5"
      },
      "source": [
        "<a href=\"https://colab.research.google.com/github/wandb/examples/blob/master/colabs/wandb-log/Log_(Almost)_Anything_with_W&B_Media.ipynb\" target=\"_parent\"><img src=\"https://colab.research.google.com/assets/colab-badge.svg\" alt=\"Open In Colab\"/></a>\n",
        "<!--- @wandbcode{media-video} -->"
      ]
    },
    {
      "cell_type": "markdown",
      "metadata": {
        "id": "drrhwAeETDO9"
      },
      "source": [
        "<img src=\"https://wandb.me/logo-im-png\" width=\"400\" alt=\"Weights & Biases\" />\n",
        "\n",
        "<!--- @wandbcode{media-video} -->\n",
        "\n",
        "Use [Weights & Biases](https://wandb.com) for machine learning experiment tracking, dataset versioning, and project collaboration.\n",
        "\n",
        "<div><img /></div>\n",
        "\n",
        "<img src=\"https://i.imgur.com/uEtWSEb.png\" width=\"650\" alt=\"Weights & Biases\" />\n",
        "\n",
        "<div><img /></div>\n",
        "\n",
        "# Log (Almost) Anything with W&B Media"
      ]
    },
    {
      "cell_type": "markdown",
      "metadata": {
        "id": "eG33s5vbTDO-"
      },
      "source": [
        "\n",
        "In this notebook, we'll show you how to visualize a model's predictions with Weights & Biases – images, videos, audio, tables, HTML, metrics, plots, 3D objects and point clouds.\n",
        "\n",
        "### Follow along with a [video tutorial →](http://wandb.me/media-video)!\n",
        "#### View plots in interactive [dashboard →](https://app.wandb.ai/lavanyashukla/visualize-predictions/reports/Visualize-Model-Predictions--Vmlldzo1NjM4OA).\n"
      ]
    },
    {
      "cell_type": "markdown",
      "metadata": {
        "id": "CiWswk7zTDO-"
      },
      "source": [
        "\n",
        "![](https://paper-attachments.dropbox.com/s_C0EC7008D045FC80715C08E7386E0BBDA59DC92DEE34C734FEA67BF25E4BA5CC_1578297638486_image.png)\n",
        "\n"
      ]
    },
    {
      "cell_type": "code",
      "execution_count": 1,
      "metadata": {
        "colab": {
          "base_uri": "https://localhost:8080/"
        },
        "id": "vMo9b_h6TDO_",
        "outputId": "9c45912e-6e53-48c5-d4b6-6ed28e39c80b"
      },
      "outputs": [
        {
          "name": "stdout",
          "output_type": "stream",
          "text": [
            "\u001b[K     |████████████████████████████████| 1.9 MB 7.4 MB/s \n",
            "\u001b[K     |████████████████████████████████| 168 kB 50.6 MB/s \n",
            "\u001b[K     |████████████████████████████████| 182 kB 48.6 MB/s \n",
            "\u001b[K     |████████████████████████████████| 62 kB 1.5 MB/s \n",
            "\u001b[K     |████████████████████████████████| 168 kB 54.1 MB/s \n",
            "\u001b[K     |████████████████████████████████| 166 kB 37.9 MB/s \n",
            "\u001b[K     |████████████████████████████████| 166 kB 69.8 MB/s \n",
            "\u001b[K     |████████████████████████████████| 162 kB 68.0 MB/s \n",
            "\u001b[K     |████████████████████████████████| 162 kB 65.3 MB/s \n",
            "\u001b[K     |████████████████████████████████| 158 kB 63.2 MB/s \n",
            "\u001b[K     |████████████████████████████████| 157 kB 65.5 MB/s \n",
            "\u001b[K     |████████████████████████████████| 157 kB 59.1 MB/s \n",
            "\u001b[K     |████████████████████████████████| 157 kB 61.5 MB/s \n",
            "\u001b[K     |████████████████████████████████| 157 kB 60.5 MB/s \n",
            "\u001b[K     |████████████████████████████████| 157 kB 61.3 MB/s \n",
            "\u001b[K     |████████████████████████████████| 157 kB 62.4 MB/s \n",
            "\u001b[K     |████████████████████████████████| 157 kB 53.9 MB/s \n",
            "\u001b[K     |████████████████████████████████| 156 kB 59.4 MB/s \n",
            "\u001b[?25h  Building wheel for pathtools (setup.py) ... \u001b[?25l\u001b[?25hdone\n",
            "Cloning into 'examples'...\n",
            "remote: Enumerating objects: 6227, done.\u001b[K\n",
            "remote: Counting objects: 100% (1261/1261), done.\u001b[K\n",
            "remote: Compressing objects: 100% (669/669), done.\u001b[K\n",
            "remote: Total 6227 (delta 731), reused 1039 (delta 557), pack-reused 4966\u001b[K\n",
            "Receiving objects: 100% (6227/6227), 173.07 MiB | 26.75 MiB/s, done.\n",
            "Resolving deltas: 100% (3338/3338), done.\n",
            "Checking out files: 100% (305/305), done.\n"
          ]
        }
      ],
      "source": [
        "!pip install wandb -qq\n",
        "\n",
        "# Fetch audio, video and other data files to log\n",
        "!git clone https://github.com/wandb/examples.git\n",
        "!pip install soundfile -qq\n",
        "\n",
        "import warnings\n",
        "warnings.filterwarnings(\"ignore\", category=UserWarning)"
      ]
    },
    {
      "cell_type": "code",
      "execution_count": null,
      "metadata": {
        "id": "yWbUh1beTDPA"
      },
      "outputs": [],
      "source": [
        "import pandas as pd\n",
        "import numpy as np\n",
        "import wandb"
      ]
    },
    {
      "cell_type": "code",
      "execution_count": null,
      "metadata": {
        "id": "Z8IU14IUTDPB"
      },
      "outputs": [],
      "source": [
        "wandb.login()"
      ]
    },
    {
      "cell_type": "markdown",
      "metadata": {
        "id": "2MGUOsq7TDPB"
      },
      "source": [
        "# Log metrics"
      ]
    },
    {
      "cell_type": "code",
      "execution_count": null,
      "metadata": {
        "id": "AgK2ZqXPTDPB"
      },
      "outputs": [],
      "source": [
        "# Get Apple stock price data from\n",
        "# https://www.macrotrends.net/stocks/charts/AAPL/apple/stock-price-history\n",
        "# Read in dataset\n",
        "apple = pd.read_csv(\"examples/examples/data/apple.csv\")\n",
        "apple = apple[-1000:]"
      ]
    },
    {
      "cell_type": "code",
      "execution_count": null,
      "metadata": {
        "id": "DxKLTZNxTDPC"
      },
      "outputs": [],
      "source": [
        "# Initialize a new run\n",
        "wandb.init(project=\"visualize-predictions\", name=\"metrics\")\n",
        "\n",
        "# Log the metric on each step\n",
        "for price in apple['close']:\n",
        "    wandb.log({\"Stock Price\": price})\n",
        "\n",
        "wandb.finish()"
      ]
    },
    {
      "cell_type": "markdown",
      "metadata": {
        "id": "edMjBr0fTDPC"
      },
      "source": [
        "# Log plots"
      ]
    },
    {
      "cell_type": "code",
      "execution_count": null,
      "metadata": {
        "id": "76Ci9Z3vTDPD"
      },
      "outputs": [],
      "source": [
        "import matplotlib.pyplot as plt\n",
        "\n",
        "# Initialize a new run\n",
        "wandb.init(project=\"visualize-predictions\", name=\"plots\")\n",
        "\n",
        "# Make the plot\n",
        "fibonacci = [0, 1, 1, 2, 3, 5, 8, 13, 21, 34]\n",
        "fig, ax = plt.subplots()\n",
        "ax.plot(fibonacci)\n",
        "ax.set_ylabel(\"some interesting numbers\")\n",
        "\n",
        "# Log the plot\n",
        "wandb.log({\"plot\": fig})\n",
        "wandb.finish()\n",
        "fig"
      ]
    },
    {
      "cell_type": "markdown",
      "metadata": {
        "id": "JqL1RsveTDPD"
      },
      "source": [
        "# Log Histograms"
      ]
    },
    {
      "cell_type": "code",
      "execution_count": null,
      "metadata": {
        "id": "NoQ1Fmc3TDPD"
      },
      "outputs": [],
      "source": [
        "# Initialize a new run\n",
        "wandb.init(project=\"visualize-predictions\", name=\"histograms\")\n",
        "\n",
        "fibonacci = np.array([0, 1, 1, 2, 3, 5, 8, 13, 21, 34])\n",
        "\n",
        "# Log a histogram on each step\n",
        "for i in range(1, 10):\n",
        "  wandb.log({\"histograms\":\n",
        "             wandb.Histogram(fibonacci / i)})\n",
        "  \n",
        "wandb.finish()"
      ]
    },
    {
      "cell_type": "markdown",
      "metadata": {
        "id": "wHvF8fgXTDPE"
      },
      "source": [
        "# Log images"
      ]
    },
    {
      "cell_type": "code",
      "execution_count": null,
      "metadata": {
        "id": "l5-rbhbUTDPE"
      },
      "outputs": [],
      "source": [
        "import matplotlib.pyplot as plt\n",
        "\n",
        "# Initialize a new run\n",
        "wandb.init(project=\"visualize-predictions\", name=\"images\")\n",
        "\n",
        "# Generate an image\n",
        "path_to_img = \"examples/examples/data/cafe.jpg\"\n",
        "im = plt.imread(path_to_img)\n",
        "\n",
        "# Log the image\n",
        "wandb.log({\"img\": [wandb.Image(im, caption=\"Cafe\")]})\n",
        "\n",
        "wandb.finish()"
      ]
    },
    {
      "cell_type": "markdown",
      "metadata": {
        "id": "mSCv_QNuTDPF"
      },
      "source": [
        "# Log videos"
      ]
    },
    {
      "cell_type": "code",
      "execution_count": null,
      "metadata": {
        "id": "uph0-P7STDPF"
      },
      "outputs": [],
      "source": [
        "# Initialize a new run\n",
        "wandb.init(project=\"visualize-predictions\", name=\"videos\")\n",
        "\n",
        "# Generate a video\n",
        "path_to_video = \"examples/examples/data/openai-gym.mp4\"\n",
        "\n",
        "# Log the video\n",
        "wandb.log({\"video\": wandb.Video(path_to_video, fps=4, format=\"gif\")})\n",
        "\n",
        "wandb.finish()"
      ]
    },
    {
      "cell_type": "markdown",
      "metadata": {
        "id": "j_3IshzkTDPG"
      },
      "source": [
        "![](https://api.wandb.ai/files/lavanyashukla/visualize-predictions/0gv4owya/media/videos/openai-gym_89a16925.mp4)"
      ]
    },
    {
      "cell_type": "markdown",
      "metadata": {
        "id": "gnhIb3H3TDPG"
      },
      "source": [
        "# Log audio"
      ]
    },
    {
      "cell_type": "code",
      "execution_count": null,
      "metadata": {
        "id": "Ws2A5LUeTDPH"
      },
      "outputs": [],
      "source": [
        "# Initialize a new run\n",
        "wandb.init(project=\"visualize-predictions\", name=\"audio\")\n",
        "\n",
        "# Generate audio data\n",
        "path_to_audio = \"examples/examples/data/piano.wav\"\n",
        "\n",
        "# Log that audio data\n",
        "wandb.log({\"examples\":\n",
        "           [wandb.Audio(path_to_audio, caption=\"Piano\", sample_rate=32)]})\n",
        "\n",
        "wandb.finish()"
      ]
    },
    {
      "cell_type": "code",
      "execution_count": null,
      "metadata": {
        "id": "cHq9HFHeTDPH"
      },
      "outputs": [],
      "source": [
        "# Initialize a new run\n",
        "wandb.init(project=\"visualize-predictions\", name=\"audio\")\n",
        "\n",
        "# Generate audio data\n",
        "fs = 44100 # sampling frequency, Hz\n",
        "length = 3  # length, seconds\n",
        "xs = np.linspace(0, length, num=fs * length)\n",
        "waveform = np.sin(fs * 2 * np.pi / 40  * xs ** 2)\n",
        "\n",
        "# Log audio data\n",
        "wandb.log({\"examples\":\n",
        "           [wandb.Audio(waveform, caption=\"Boop\", sample_rate=fs)]})\n",
        "\n",
        "wandb.finish()"
      ]
    },
    {
      "cell_type": "markdown",
      "metadata": {
        "id": "aZuokkJzTDPH"
      },
      "source": [
        "# Log tables"
      ]
    },
    {
      "cell_type": "code",
      "execution_count": null,
      "metadata": {
        "id": "NZA9gInKTDPI"
      },
      "outputs": [],
      "source": [
        "# Initialize a new run\n",
        "wandb.init(project=\"visualize-predictions\", name=\"tables\")\n",
        "\n",
        "# Create tabular data, method 1\n",
        "data = [[\"I love my phone\", \"1\", \"1\"],[\"My phone sucks\", \"0\", \"-1\"]]\n",
        "wandb.log({\"a_table\": wandb.Table(data=data, columns=[\"Text\", \"Predicted Label\", \"True Label\"])})\n",
        "\n",
        "# Create tabular data, method 2\n",
        "table = wandb.Table(columns=[\"Text\", \"Predicted Label\", \"True Label\"])\n",
        "table.add_data(\"I love my phone\", \"1\", \"1\")\n",
        "table.add_data(\"My phone sucks\", \"0\", \"-1\")\n",
        "wandb.log({\"another_table\": table})\n",
        "\n",
        "wandb.finish()"
      ]
    },
    {
      "cell_type": "markdown",
      "metadata": {
        "id": "pqna_x-vTDPI"
      },
      "source": [
        "# Log HTML"
      ]
    },
    {
      "cell_type": "code",
      "execution_count": null,
      "metadata": {
        "id": "kDT2PrdqTDPJ"
      },
      "outputs": [],
      "source": [
        "# Initialize a new run\n",
        "wandb.init(project=\"visualize-predictions\", name=\"html\")\n",
        "\n",
        "# Generate HTML data\n",
        "path_to_html = \"examples/examples/data/some_html.html\"\n",
        "\n",
        "# Log an HTML file\n",
        "wandb.log({\"custom_file\": wandb.Html(open(path_to_html))})\n",
        "\n",
        "# Log raw HTML strings\n",
        "wandb.log({\"custom_string\": wandb.Html('<a href=\"https://mysite\">Link</a>')})\n",
        "\n",
        "wandb.finish()"
      ]
    },
    {
      "cell_type": "markdown",
      "metadata": {
        "id": "hLqviSelTDPJ"
      },
      "source": [
        "# Log 3D Objects"
      ]
    },
    {
      "cell_type": "code",
      "execution_count": null,
      "metadata": {
        "id": "BFpkFSMTTDPJ"
      },
      "outputs": [],
      "source": [
        "# Initialize a new run\n",
        "wandb.init(project=\"visualize-predictions\", name=\"3d_objects\")\n",
        "\n",
        "# Generate 3D object data\n",
        "path_to_obj = \"examples/examples/data/wolf.obj\"\n",
        "\n",
        "# Log the 3D object\n",
        "wandb.log({\"3d_object\": wandb.Object3D(open(path_to_obj))})\n",
        "\n",
        "wandb.finish()"
      ]
    },
    {
      "cell_type": "markdown",
      "metadata": {
        "id": "qK3dWWeSTDPK"
      },
      "source": [
        "# Log Point Clouds"
      ]
    },
    {
      "cell_type": "code",
      "execution_count": null,
      "metadata": {
        "id": "jGCUMnSdTDPK"
      },
      "outputs": [],
      "source": [
        "# Initialize a new run\n",
        "wandb.init(project=\"visualize-predictions\", name=\"point_clouds\")\n",
        "\n",
        "# Generate a cloud of points\n",
        "points = np.random.uniform(size=(250, 3))\n",
        "\n",
        "# Log points and boxes in W&B\n",
        "wandb.log(\n",
        "        {\n",
        "            \"point_scene\": wandb.Object3D(\n",
        "                {\n",
        "                    \"type\": \"lidar/beta\",\n",
        "                    \"points\": points,\n",
        "                    \"boxes\": np.array(\n",
        "                        [\n",
        "                            {\n",
        "                                \"corners\": [\n",
        "                                    [0,0,0],\n",
        "                                    [0,1,0],\n",
        "                                    [0,0,1],\n",
        "                                    [1,0,0],\n",
        "                                    [1,1,0],\n",
        "                                    [0,1,1],\n",
        "                                    [1,0,1],\n",
        "                                    [1,1,1]\n",
        "                                ],\n",
        "                                \"label\": \"Box\",\n",
        "                                \"color\": [123,321,111],\n",
        "                            },\n",
        "                            {\n",
        "                                \"corners\": [\n",
        "                                    [0,0,0],\n",
        "                                    [0,2,0],\n",
        "                                    [0,0,2],\n",
        "                                    [2,0,0],\n",
        "                                    [2,2,0],\n",
        "                                    [0,2,2],\n",
        "                                    [2,0,2],\n",
        "                                    [2,2,2]\n",
        "                                ],\n",
        "                                \"label\": \"Box-2\",\n",
        "                                \"color\": [111,321,0],\n",
        "                            }\n",
        "                        ]\n",
        "                    ),\n",
        "                    \"vectors\": np.array([])\n",
        "                }\n",
        "            )\n",
        "        }\n",
        "    )\n",
        "\n",
        "wandb.finish()"
      ]
    },
    {
      "cell_type": "markdown",
      "metadata": {
        "id": "2_BfbZc4TDPK"
      },
      "source": [
        "## More Resources\n",
        "Check out some other cool things you can do with Weights & Biases:\n",
        "* [Track model performance](https://app.wandb.ai/lavanyashukla/visualize-models/reports/Visualize-Model-Performance--Vmlldzo1NTk2MA)\n",
        "* [Visualize sklearn models](https://app.wandb.ai/lavanyashukla/visualize-sklearn/reports/Visualize-Sklearn-Model-Performance--Vmlldzo0ODIzNg)\n",
        "* [Visualize model predictions](https://app.wandb.ai/lavanyashukla/visualize-predictions/reports/Visualize-Model-Predictions--Vmlldzo1NjM4OA/)"
      ]
    }
  ],
  "metadata": {
    "colab": {
      "provenance": []
    },
    "kernelspec": {
      "display_name": "torch",
      "language": "python",
      "name": "python3"
    },
    "language_info": {
      "name": "python",
      "version": "3.7.15 (default, Nov 24 2022, 12:02:37) \n[Clang 14.0.6 ]"
    },
    "vscode": {
      "interpreter": {
        "hash": "2bf842d661560123fc41f3c021485f7ddf07e33ebc2af7374b5cbd88f188b0be"
      }
    }
  },
  "nbformat": 4,
  "nbformat_minor": 0
}
