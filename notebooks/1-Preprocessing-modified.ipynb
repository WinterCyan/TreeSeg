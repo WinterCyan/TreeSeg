{
 "cells": [
  {
   "cell_type": "markdown",
   "metadata": {},
   "source": [
    "   Edited by Sizhuo Li\n",
    "   \n",
    "   Author: Ankit Kariryaa, University of Bremen"
   ]
  },
  {
   "cell_type": "markdown",
   "metadata": {},
   "source": [
    "### Overview \n",
    "Start by labeling/annotating a part of the satellite images with the trees or any other object of interest. Store the labels in shapefiles. The areas that are labeled/annotated are denoted by the 'training area' and actual trees or the object of interests in that area are denoted by the 'training polygons'. The word annotation and label are used interchangeably in this code. \n",
    "\n",
    "In this notebook, first, we read the training area and the training polygons from two separate shape files. Then we determine the training area for each training polygon and generate a weighted boundary for each training area. \n",
    "Next, we read the raw satellite images (ndvi and pan channel), and from each satellite image, we extract areas that overlap with a training area. The part of the ndvi and pan image that overlap with the training area and the corresponding label/annotation and boundary weights are then written to separate files.\n",
    "\n",
    "Here, the term training area and training polygon represent all available input data, which can then be separated into training, validation, and test sets in the next notebook(s). "
   ]
  },
  {
   "cell_type": "markdown",
   "metadata": {},
   "source": [
    "### Getting started\n",
    "Create a new `notebooks/config/` directory by copying the `notebooks/configTemplate/` directory and define the paths to input and output data in the `notebooks/config/Preprocessing.py` file.  \n",
    "Note that in `notebooks/config/Preprocessing.py` you may need to change the default value of some variable (e.g., `raw_image_file_type` or `bands`) for your specific use case."
   ]
  },
  {
   "cell_type": "code",
   "execution_count": 65,
   "metadata": {},
   "outputs": [],
   "source": [
    "import rasterio                  # I/O raster data (netcdf, height, geotiff, ...)\n",
    "import rasterio.mask\n",
    "import rasterio.warp             # Reproject raster samples\n",
    "import rasterio.merge\n",
    "from rasterio.transform import rowcol\n",
    "import fiona                     # I/O vector data (shape, geojson, ...)\n",
    "import pyproj                    # Change coordinate reference system\n",
    "import geopandas as gps\n",
    "import pandas as pd\n",
    "import shapely\n",
    "from shapely.geometry import box, Point\n",
    "import json\n",
    "\n",
    "import numpy as np               # numerical array manipulation\n",
    "import time\n",
    "import os\n",
    "from PIL import Image\n",
    "import PIL.ImageDraw\n",
    "from core.visualize import display_images\n",
    "from core.frame_info import image_normalize\n",
    "\n",
    "import matplotlib.pyplot as plt  # plotting tools\n",
    "%matplotlib inline\n",
    "from tqdm import tqdm_notebook as tqdm\n",
    "import warnings                  # ignore annoying warnings\n",
    "warnings.filterwarnings(\"ignore\")\n",
    "\n",
    "%reload_ext autoreload\n",
    "%autoreload 2\n",
    "from IPython.core.interactiveshell import InteractiveShell\n",
    "InteractiveShell.ast_node_interactivity = \"all\""
   ]
  },
  {
   "cell_type": "code",
   "execution_count": 66,
   "metadata": {},
   "outputs": [],
   "source": [
    "beginIdx = 3\n",
    "\n",
    "areasSize = 2\n",
    "endIdx = beginIdx + areasSize"
   ]
  },
  {
   "cell_type": "code",
   "execution_count": 67,
   "metadata": {},
   "outputs": [
    {
     "name": "stdout",
     "output_type": "stream",
     "text": [
      "Warning: path_to_write is not empty! The old files in the directory may not be overwritten!!\n"
     ]
    }
   ],
   "source": [
    "# Required configurations (including the input and output paths) are stored in a separate file (such as config/Preprocessing.py)\n",
    "# Please provide required info in the file before continuing with this notebook. \n",
    " \n",
    "from config import Preprocessing\n",
    "# In case you are using a different folder name such as configLargeCluster, then you should import from the respective folder \n",
    "# Eg. from configLargeCluster import Preprocessing\n",
    "\n",
    "config = Preprocessing.Configuration(folder=\"full_area3\")"
   ]
  },
  {
   "cell_type": "code",
   "execution_count": 68,
   "metadata": {},
   "outputs": [
    {
     "name": "stdout",
     "output_type": "stream",
     "text": [
      "Read a total of 195520 object polygons and 226 training areas.\n",
      "Polygons will be assigned to training areas in the next steps.\n"
     ]
    }
   ],
   "source": [
    "#Read the training area and training polygons\n",
    "trainingArea = gps.read_file(os.path.join(config.training_base_dir, config.training_area_fn))\n",
    "trainingPolygon = gps.read_file(os.path.join(config.training_base_dir, config.training_polygon_fn))\n",
    "\n",
    "print(f'Read a total of {trainingPolygon.shape[0]} object polygons and {trainingArea.shape[0]} training areas.')\n",
    "print(f'Polygons will be assigned to training areas in the next steps.')"
   ]
  },
  {
   "cell_type": "code",
   "execution_count": 69,
   "metadata": {},
   "outputs": [
    {
     "name": "stdout",
     "output_type": "stream",
     "text": [
      "epsg:4326\n",
      "epsg:4326\n"
     ]
    }
   ],
   "source": [
    "#Check if the training areas and the training polygons have the same crs\n",
    "if trainingArea.crs  != trainingPolygon.crs:\n",
    "    print('Training area CRS does not match training_polygon CRS')\n",
    "    targetCRS = trainingPolygon.crs #Areas are less in number so conversion should be faster\n",
    "    trainingArea = trainingArea.to_crs(targetCRS)\n",
    "print(trainingPolygon.crs)\n",
    "print(trainingArea.crs)\n",
    "assert trainingPolygon.crs == trainingArea.crs"
   ]
  },
  {
   "cell_type": "code",
   "execution_count": 70,
   "metadata": {},
   "outputs": [
    {
     "name": "stdout",
     "output_type": "stream",
     "text": [
      "(226, 3)\n",
      "(2, 3)\n"
     ]
    }
   ],
   "source": [
    "# Assign serial IDs to training areas\n",
    "trainingArea['id'] = range(trainingArea.shape[0])\n",
    "used_trainingArea = trainingArea[beginIdx:endIdx][:]\n",
    "print(trainingArea.shape)\n",
    "print(used_trainingArea.shape)"
   ]
  },
  {
   "cell_type": "code",
   "execution_count": 71,
   "metadata": {},
   "outputs": [],
   "source": [
    "# Create boundary from polygon file\n",
    "def calculateBoundaryWeight(polygonsInArea, scale_polygon = 1.5, output_plot = True): \n",
    "    '''\n",
    "    For each polygon, create a weighted boundary where the weights of shared/close boundaries is higher than weights of solitary boundaries.\n",
    "    '''\n",
    "    # If there are polygons in a area, the boundary polygons return an empty geo dataframe\n",
    "    if not polygonsInArea:\n",
    "        return gps.GeoDataFrame({})\n",
    "    tempPolygonDf = pd.DataFrame(polygonsInArea)\n",
    "    tempPolygonDf.reset_index(drop=True,inplace=True)\n",
    "    tempPolygonDf = gps.GeoDataFrame(tempPolygonDf.drop(columns=['Id']))\n",
    "    new_c = []\n",
    "    #for each polygon in area scale, compare with other polygons:\n",
    "    for i in tqdm(range(len(tempPolygonDf))):\n",
    "        pol1 = gps.GeoSeries(tempPolygonDf.iloc[i][0])\n",
    "        sc = pol1.scale(xfact=scale_polygon, yfact=scale_polygon, zfact=scale_polygon, origin='center')\n",
    "        scc = pd.DataFrame(columns=['id', 'geometry'])\n",
    "        scc = scc.append({'id': None, 'geometry': sc[0]}, ignore_index=True)\n",
    "        scc = gps.GeoDataFrame(pd.concat([scc]*len(tempPolygonDf), ignore_index=True))\n",
    "\n",
    "        pol2 = gps.GeoDataFrame(tempPolygonDf[~tempPolygonDf.index.isin([i])])\n",
    "        #scale pol2 also and then intersect, so in the end no need for scale\n",
    "        pol2 = gps.GeoDataFrame(pol2.scale(xfact=scale_polygon, yfact=scale_polygon, zfact=scale_polygon, origin='center'))\n",
    "        pol2.columns = ['geometry']\n",
    "\n",
    "        ints = scc.intersection(pol2)\n",
    "        for k in range(len(ints)):\n",
    "            if ints.iloc[k]!=None:\n",
    "                if ints.iloc[k].is_empty !=1:\n",
    "                    new_c.append(ints.iloc[k])\n",
    "    new_c = gps.GeoSeries(new_c)\n",
    "    new_cc = gps.GeoDataFrame({'geometry': new_c})\n",
    "    new_cc.columns = ['geometry']\n",
    "    bounda = gps.overlay(new_cc, tempPolygonDf, how='difference')\n",
    "    if output_plot:\n",
    "        fig, ax = plt.subplots(figsize = (10,10))\n",
    "        bounda.plot(ax=ax,color = 'red')\n",
    "        plt.show()\n",
    "    #change multipolygon to polygon\n",
    "    bounda = bounda.explode()\n",
    "    bounda.reset_index(drop=True,inplace=True)\n",
    "    #bounda.to_file('boundary_ready_to_use.shp')\n",
    "    return bounda"
   ]
  },
  {
   "cell_type": "code",
   "execution_count": 72,
   "metadata": {},
   "outputs": [
    {
     "data": {
      "application/vnd.jupyter.widget-view+json": {
       "model_id": "3d4bc5da63c240648d43cabd36b8b7ee",
       "version_major": 2,
       "version_minor": 0
      },
      "text/plain": [
       "HBox(children=(FloatProgress(value=0.0, max=2.0), HTML(value='')))"
      ]
     },
     "metadata": {},
     "output_type": "display_data"
    },
    {
     "data": {
      "application/vnd.jupyter.widget-view+json": {
       "model_id": "899b59b2433d405d9c27b4da7cb80177",
       "version_major": 2,
       "version_minor": 0
      },
      "text/plain": [
       "HBox(children=(FloatProgress(value=0.0, max=114.0), HTML(value='')))"
      ]
     },
     "metadata": {},
     "output_type": "display_data"
    },
    {
     "name": "stdout",
     "output_type": "stream",
     "text": [
      "\n"
     ]
    },
    {
     "data": {
      "application/vnd.jupyter.widget-view+json": {
       "model_id": "aa32987477cc4ea0b94ce16c2ee2ef90",
       "version_major": 2,
       "version_minor": 0
      },
      "text/plain": [
       "HBox(children=(FloatProgress(value=0.0, max=190.0), HTML(value='')))"
      ]
     },
     "metadata": {},
     "output_type": "display_data"
    },
    {
     "name": "stdout",
     "output_type": "stream",
     "text": [
      "\n",
      "\n",
      "Assigned training polygons in 2 training areas and created weighted boundaries for ploygons\n"
     ]
    }
   ],
   "source": [
    "# As input we received two shapefile, first one contains the training areas/rectangles and other contains the polygon of trees/objects in those training areas\n",
    "# The first task is to determine the parent training area for each polygon and generate a weight map based upon the distance of a polygon boundary to other objects.\n",
    "# Weight map will be used by the weighted loss during the U-Net training\n",
    "\n",
    "def dividePolygonsInTrainingAreas(trainingPolygon, trainingArea):\n",
    "    '''\n",
    "    Assign annotated ploygons in to the training areas.\n",
    "    '''\n",
    "    # For efficiency, assigned polygons are removed from the list, we make a copy here. \n",
    "    cpTrainingPolygon = trainingPolygon.copy()\n",
    "    splitPolygons = {}\n",
    "    for i in tqdm(trainingArea.index):\n",
    "        spTemp = []\n",
    "        allocated = []\n",
    "        for j in cpTrainingPolygon.index:\n",
    "            if trainingArea.loc[i]['geometry'].intersects(cpTrainingPolygon.loc[j]['geometry']):\n",
    "                spTemp.append(cpTrainingPolygon.loc[j])\n",
    "                allocated.append(j)\n",
    "\n",
    "            # Order of bounds: minx miny maxx maxy\n",
    "        boundary = calculateBoundaryWeight(spTemp, scale_polygon = 1.5, output_plot = config.show_boundaries_during_processing)\n",
    "        splitPolygons[trainingArea.loc[i]['id']] = {'polygons':spTemp, 'boundaryWeight': boundary, 'bounds':list(trainingArea.bounds.loc[i]),}\n",
    "        cpTrainingPolygon = cpTrainingPolygon.drop(allocated)\n",
    "    return splitPolygons\n",
    "\n",
    "# areasWithPolygons contains the object polygons and weighted boundaries for each area!\n",
    "areasWithPolygons = dividePolygonsInTrainingAreas(trainingPolygon, used_trainingArea)\n",
    "print(f'Assigned training polygons in {len(areasWithPolygons)} training areas and created weighted boundaries for ploygons')"
   ]
  },
  {
   "cell_type": "code",
   "execution_count": 73,
   "metadata": {},
   "outputs": [
    {
     "name": "stdout",
     "output_type": "stream",
     "text": [
      "Found a total of 2 pair of raw image(s) to process!\n"
     ]
    }
   ],
   "source": [
    "# Read the raw input images\n",
    "def readInputImages(imageBaseDir, rawImageFileType, rawNdviImagePrefix, rawPanImagePrefix):\n",
    "    \"\"\"\n",
    "    Reads all images with prefix ndvi_image_prefix and image_file_type datatype in the image_base_dir directory.\n",
    "    \"\"\"     \n",
    "    \n",
    "    ndviImageFn = []\n",
    "    for root, dirs, files in os.walk(imageBaseDir):\n",
    "        for file in files:\n",
    "            if file.endswith(rawImageFileType) and file.startswith(rawNdviImagePrefix):\n",
    "                ndviImageFn.append(os.path.join(root, file))\n",
    "    panImageFn = [fn.replace(rawNdviImagePrefix, rawPanImagePrefix) for fn in ndviImageFn]\n",
    "    inputImages = list(zip(ndviImageFn,panImageFn))\n",
    "    return inputImages\n",
    "\n",
    "inputImages = readInputImages(config.raw_image_base_dir, config.raw_image_file_type, config.raw_ndvi_image_prefix, config.raw_pan_image_prefix)\n",
    "print(f'Found a total of {len(inputImages)} pair of raw image(s) to process!')"
   ]
  },
  {
   "cell_type": "code",
   "execution_count": 74,
   "metadata": {},
   "outputs": [],
   "source": [
    "# For each raw satellite image, determine if it overlaps with a training area. \n",
    "# If a overlap if found, then extract + write the overlapping part of the raw image, create + write an image from training polygons and create + write an image from boundary weights in the that overlapping region.\n",
    "\n",
    "def drawPolygons(polygons, shape, outline, fill):\n",
    "    \"\"\"\n",
    "    From the polygons, create a numpy mask with fill value in the foreground and 0 value in the background.\n",
    "    Outline (i.e the edge of the polygon) can be assigned a separate value.\n",
    "    \"\"\"\n",
    "    mask = np.zeros(shape, dtype=np.uint8)\n",
    "    mask = PIL.Image.fromarray(mask)\n",
    "    draw = PIL.ImageDraw.Draw(mask)\n",
    "    #Syntax: PIL.ImageDraw.Draw.polygon(xy, fill=None, outline=None)\n",
    "    #Parameters:\n",
    "    #xy – Sequence of either 2-tuples like [(x, y), (x, y), …] or numeric values like [x, y, x, y, …].\n",
    "    #outline – Color to use for the outline.\n",
    "    #fill – Color to use for the fill.\n",
    "    #Returns: An Image object.\n",
    "    for polygon in polygons:\n",
    "        xy = [(point[1], point[0]) for point in polygon]\n",
    "        draw.polygon(xy=xy, outline=outline, fill=fill)\n",
    "    mask = np.array(mask)#, dtype=bool)   \n",
    "    return(mask)\n",
    "\n",
    "\n",
    "def rowColPolygons(areaDf, areaShape, profile, filename, outline, fill):\n",
    "    \"\"\"\n",
    "    Convert polygons coordinates to image pixel coordinates, create annotation image using drawPolygons() and write the results into an image file.\n",
    "    \"\"\"\n",
    "    transform = profile['transform']\n",
    "    polygons = []\n",
    "    for i in areaDf.index:\n",
    "        gm = areaDf.loc[i]['geometry']\n",
    "        if isinstance(gm, shapely.geometry.MultiPolygon):\n",
    "            continue\n",
    "        a,b = zip(*list(gm.exterior.coords))\n",
    "        row, col = rasterio.transform.rowcol(transform, a, b)\n",
    "        zipped = list(zip(row,col)) #[list(rc) for rc in list(zip(row,col))]\n",
    "        polygons.append(zipped)\n",
    "    with open(filename, 'w') as outfile:  \n",
    "        json.dump({'Trees': polygons}, outfile)\n",
    "    mask = drawPolygons(polygons,areaShape, outline=outline, fill=fill)    \n",
    "    profile['dtype'] = rasterio.int16\n",
    "    with rasterio.open(filename.replace('json', 'png'), 'w', **profile) as dst:\n",
    "        dst.write(mask.astype(rasterio.int16), 1)\n",
    "\n",
    "def writeExtractedImageAndAnnotation(img, sm, profile, polygonsInAreaDf, boundariesInAreaDf, writePath, imagesFilename, annotationFilename, boundaryFilename, bands, writeCounter, normalize=True):\n",
    "    \"\"\"\n",
    "    Write the part of raw image that overlaps with a training area into a separate image file. \n",
    "    Use rowColPolygons to create and write annotation and boundary image from polygons in the training area.\n",
    "    \"\"\"\n",
    "    try:\n",
    "        for band, imFn in zip(bands, imagesFilename):\n",
    "            # Rasterio reads file channel first, so the sm[0] has the shape [1 or ch_count, x,y]\n",
    "            # If raster has multiple channels, then bands will be [0, 1, ...] otherwise simply [0]\n",
    "            dt = sm[0][band].astype(profile['dtype'])\n",
    "            if normalize: # Note: If the raster contains None values, then you should normalize it separately by calculating the mean and std without those values.\n",
    "                dt = image_normalize(dt, axis=None) #  Normalize the image along the width and height, and since here we only have one channel we pass axis as None\n",
    "            with rasterio.open(os.path.join(writePath, imFn+'_{}.png'.format(writeCounter)), 'w', **profile) as dst:\n",
    "                    dst.write(dt, 1) \n",
    "        if annotationFilename:\n",
    "            annotation_json_filepath = os.path.join(writePath,annotationFilename+'_{}.json'.format(writeCounter))\n",
    "            # The object is given a value of 1, the outline or the border of the object is given a value of 0 and rest of the image/background is given a a value of 0\n",
    "            rowColPolygons(polygonsInAreaDf,(sm[0].shape[1], sm[0].shape[2]), profile, annotation_json_filepath, outline=0, fill = 1)\n",
    "        if boundaryFilename:\n",
    "            boundary_json_filepath = os.path.join(writePath,boundaryFilename+'_{}.json'.format(writeCounter))\n",
    "            # The boundaries are given a value of 1, the outline or the border of the boundaries is also given a value of 1 and rest is given a value of 0\n",
    "            rowColPolygons(boundariesInAreaDf,(sm[0].shape[1], sm[0].shape[2]), profile, boundary_json_filepath, outline=1 , fill=1)\n",
    "        return(writeCounter+1)\n",
    "    except Exception as e:\n",
    "        print(e)\n",
    "        print(\"Something nasty happened, could not write the annotation or the mask file!\")\n",
    "        return writeCounter\n",
    "        \n",
    "        \n",
    "def findOverlap(img, areasWithPolygons, writePath, imageFilename, annotationFilename, boundaryFilename, bands, writeCounter=1):\n",
    "    \"\"\"\n",
    "    Finds overlap of image with a training area.\n",
    "    Use writeExtractedImageAndAnnotation() to write the overlapping training area and corresponding polygons in separate image files.\n",
    "    \"\"\"\n",
    "    overlapppedAreas = set()\n",
    "    for areaID, areaInfo in areasWithPolygons.items():\n",
    "        #Convert the polygons in the area in a dataframe and get the bounds of the area. \n",
    "        polygonsInAreaDf = gps.GeoDataFrame(areaInfo['polygons'])\n",
    "        boundariesInAreaDf = gps.GeoDataFrame(areaInfo['boundaryWeight'])    \n",
    "        bboxArea = box(*areaInfo['bounds'])\n",
    "        bboxImg = box(*img.bounds)\n",
    "        #Extract the window if area is in the image\n",
    "        if(bboxArea.intersects(bboxImg)):\n",
    "            profile = img.profile  \n",
    "            sm = rasterio.mask.mask(img, [bboxArea], all_touched=True, crop=True )\n",
    "            profile['height'] = sm[0].shape[1]\n",
    "            profile['width'] = sm[0].shape[2]\n",
    "            profile['transform'] = sm[1]\n",
    "            # That's a problem with rasterio, if the height and the width are less then 256 it throws: ValueError: blockysize exceeds raster height \n",
    "            # So I set the blockxsize and blockysize to prevent this problem\n",
    "            profile['blockxsize'] = 32\n",
    "            profile['blockysize'] = 32\n",
    "            profile['count'] = 1\n",
    "            profile['dtype'] = rasterio.float32\n",
    "            # writeExtractedImageAndAnnotation writes the image, annotation and boundaries and returns the counter of the next file to write. \n",
    "            writeCounter = writeExtractedImageAndAnnotation(img, sm, profile, polygonsInAreaDf, boundariesInAreaDf, writePath, imageFilename, annotationFilename, boundaryFilename, bands, writeCounter)\n",
    "            overlapppedAreas.add(areaID)\n",
    "    return(writeCounter, overlapppedAreas)\n",
    "\n",
    "\n",
    "def extractAreasThatOverlapWithTrainingData(inputImages, areasWithPolygons, writePath, ndviFilename, panFilename, annotationFilename, boundaryFilename, bands, writeCounter):\n",
    "    \"\"\"\n",
    "    Iterates over raw ndvi and pan images and using findOverlap() extract areas that overlap with training data. The overlapping areas in raw images are written in a separate file, and annotation and boundary file are created from polygons in the overlapping areas.\n",
    "    Note that the intersection with the training areas is performed independently for raw ndvi and pan images. This is not an ideal solution and it can be combined in the future.\n",
    "    \"\"\"\n",
    "    if not os.path.exists(writePath):\n",
    "        os.makedirs(writePath)\n",
    "        \n",
    "    overlapppedAreas = set()                   \n",
    "    for imgs in tqdm(inputImages):\n",
    "        ndviImg = rasterio.open(imgs[0])\n",
    "        panImg = rasterio.open(imgs[1])\n",
    "\n",
    "        ncpan, imOverlapppedAreasPan = findOverlap(panImg, areasWithPolygons, writePath=writePath, imageFilename=[panFilename], annotationFilename=annotationFilename, boundaryFilename=boundaryFilename, bands=bands, writeCounter=writeCounter )\n",
    "        ncndvi,imOverlapppedAreasNdvi = findOverlap(ndviImg, areasWithPolygons, writePath=writePath, imageFilename=[ndviFilename], annotationFilename=annotationFilename, boundaryFilename=boundaryFilename, bands=bands, writeCounter=writeCounter)\n",
    "        if ncndvi == ncpan:\n",
    "            writeCounter = ncndvi\n",
    "        else:\n",
    "            print('Couldnt create mask!!!')\n",
    "            print(ncndvi)\n",
    "            print(ncpan)\n",
    "            break;\n",
    "        if overlapppedAreas.intersection(imOverlapppedAreasNdvi):\n",
    "            print(f'Information: Training area(s) {overlapppedAreas.intersection(imOverlapppedAreasNdvi)} spans over multiple raw images. This is common and expected in many cases. A part was found to overlap with current input image.')\n",
    "        overlapppedAreas.update(imOverlapppedAreasNdvi)\n",
    "    \n",
    "    allAreas = set(areasWithPolygons.keys())\n",
    "    if allAreas.difference(overlapppedAreas):\n",
    "        print(f'Warning: Could not find a raw image correspoinding to {allAreas.difference(overlapppedAreas)} areas. Make sure that you have provided the correct paths!')\n",
    "    "
   ]
  },
  {
   "cell_type": "code",
   "execution_count": 75,
   "metadata": {},
   "outputs": [
    {
     "data": {
      "application/vnd.jupyter.widget-view+json": {
       "model_id": "0069282f1f89436da87ab927e0fe9cb3",
       "version_major": 2,
       "version_minor": 0
      },
      "text/plain": [
       "HBox(children=(FloatProgress(value=0.0, max=2.0), HTML(value='')))"
      ]
     },
     "metadata": {},
     "output_type": "display_data"
    },
    {
     "name": "stdout",
     "output_type": "stream",
     "text": [
      "\n"
     ]
    }
   ],
   "source": [
    "# Run the main function for extracting part of ndvi and pan images that overlap with training areas\n",
    "writeCounter=beginIdx\n",
    "extractAreasThatOverlapWithTrainingData(inputImages, areasWithPolygons, config.path_to_write, config.extracted_ndvi_filename, config.extracted_pan_filename, config.extracted_annotation_filename, config.extracted_boundary_filename, config.bands, writeCounter)"
   ]
  },
  {
   "cell_type": "code",
   "execution_count": 77,
   "metadata": {},
   "outputs": [
    {
     "name": "stdout",
     "output_type": "stream",
     "text": [
      "/home/winter/code-resources/treeseg/full_area3/results/ndvi_3.png\n",
      "(4, 586, 586)\n",
      "shape:  (1, 586, 586, 4)\n"
     ]
    },
    {
     "data": {
      "image/png": "[encoded data removed]",
      "text/plain": [
       "<Figure size 1008x216 with 4 Axes>"
      ]
     },
     "metadata": {
      "needs_background": "light"
     },
     "output_type": "display_data"
    }
   ],
   "source": [
    "# Display extracted image\n",
    "sampleImage = '_3.png'\n",
    "fn = os.path.join(config.path_to_write, config.extracted_ndvi_filename + sampleImage )\n",
    "print(fn)\n",
    "\n",
    "ndvi_img = Image.open(fn)\n",
    "pan_img = Image.open(fn.replace(config.extracted_ndvi_filename ,config.extracted_pan_filename))\n",
    "read_ndvi_img = np.array(ndvi_img)\n",
    "read_pan_img = np.array(pan_img)\n",
    "annotation_im = Image.open(fn.replace(config.extracted_ndvi_filename ,config.extracted_annotation_filename))\n",
    "read_annotation = np.array(annotation_im)\n",
    "weight_im = Image.open(fn.replace(config.extracted_ndvi_filename ,config.extracted_boundary_filename))\n",
    "read_weight = np.array(weight_im)\n",
    "all_images = np.array([read_ndvi_img, read_pan_img, read_annotation, read_weight ])\n",
    "\n",
    "print(all_images.shape)\n",
    "\n",
    "display_images(np.expand_dims(np.transpose(all_images, axes=(1,2,0)), axis=0), save=True, dir=config.path_to_write)\n",
    "# plt.imshow(read_weight)"
   ]
  }
 ],
 "metadata": {
  "kernelspec": {
   "display_name": "Python 3.9.12 ('treeseg')",
   "language": "python",
   "name": "python3"
  },
  "language_info": {
   "codemirror_mode": {
    "name": "ipython",
    "version": 3
   },
   "file_extension": ".py",
   "mimetype": "text/x-python",
   "name": "python",
   "nbconvert_exporter": "python",
   "pygments_lexer": "ipython3",
   "version": "3.7.13"
  },
  "vscode": {
   "interpreter": {
    "hash": "ba0c6fa25d8e2d3ce77205862229ed71a79dbd0fb80588254b2a0e2f2cdd970f"
   }
  }
 },
 "nbformat": 4,
 "nbformat_minor": 2
}
