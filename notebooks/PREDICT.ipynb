{
 "cells": [
  {
   "cell_type": "markdown",
   "metadata": {
    "colab_type": "text",
    "id": "wMZ8F_jEtyIR"
   },
   "source": [
    "   Author: Ankit Kariryaa, University of Bremen"
   ]
  },
  {
   "cell_type": "markdown",
   "metadata": {},
   "source": [
    "### Getting started\n",
    "Define the paths to the dataset and trained models in the `notebooks/config/UNetTraining.py` file.  "
   ]
  },
  {
   "cell_type": "markdown",
   "metadata": {},
   "source": []
  },
  {
   "cell_type": "code",
   "execution_count": 1,
   "metadata": {},
   "outputs": [
    {
     "name": "stderr",
     "output_type": "stream",
     "text": [
      "2022-09-23 21:44:21.499111: I tensorflow/core/platform/cpu_feature_guard.cc:193] This TensorFlow binary is optimized with oneAPI Deep Neural Network Library (oneDNN) to use the following CPU instructions in performance-critical operations:  AVX2 AVX_VNNI FMA\n",
      "To enable them in other operations, rebuild TensorFlow with the appropriate compiler flags.\n",
      "2022-09-23 21:44:21.571154: I tensorflow/core/util/util.cc:169] oneDNN custom operations are on. You may see slightly different numerical results due to floating-point round-off errors from different computation orders. To turn them off, set the environment variable `TF_ENABLE_ONEDNN_OPTS=0`.\n",
      "2022-09-23 21:44:21.590451: E tensorflow/stream_executor/cuda/cuda_blas.cc:2981] Unable to register cuBLAS factory: Attempting to register factory for plugin cuBLAS when one has already been registered\n",
      "2022-09-23 21:44:21.987172: W tensorflow/stream_executor/platform/default/dso_loader.cc:64] Could not load dynamic library 'libnvinfer.so.7'; dlerror: libnvinfer.so.7: cannot open shared object file: No such file or directory; LD_LIBRARY_PATH: /usr/local/cuda/lib64:\n",
      "2022-09-23 21:44:21.987210: W tensorflow/stream_executor/platform/default/dso_loader.cc:64] Could not load dynamic library 'libnvinfer_plugin.so.7'; dlerror: libnvinfer_plugin.so.7: cannot open shared object file: No such file or directory; LD_LIBRARY_PATH: /usr/local/cuda/lib64:\n",
      "2022-09-23 21:44:21.987213: W tensorflow/compiler/tf2tensorrt/utils/py_utils.cc:38] TF-TRT Warning: Cannot dlopen some TensorRT libraries. If you would like to use Nvidia GPU with TensorRT, please make sure the missing libraries mentioned above are installed properly.\n",
      "/home/lenovo/miniconda3/envs/tf-nov/lib/python3.7/site-packages/keras/optimizers/optimizer_v2/adadelta.py:79: UserWarning: The `lr` argument is deprecated, use `learning_rate` instead.\n",
      "  super().__init__(name, **kwargs)\n",
      "/home/lenovo/miniconda3/envs/tf-nov/lib/python3.7/site-packages/keras/optimizers/optimizer_v2/adam.py:114: UserWarning: The `lr` argument is deprecated, use `learning_rate` instead.\n",
      "  super().__init__(name, **kwargs)\n",
      "/home/lenovo/miniconda3/envs/tf-nov/lib/python3.7/site-packages/keras/optimizers/optimizer_v2/nadam.py:86: UserWarning: The `lr` argument is deprecated, use `learning_rate` instead.\n",
      "  super().__init__(name, **kwargs)\n",
      "/home/lenovo/miniconda3/envs/tf-nov/lib/python3.7/site-packages/keras/optimizers/optimizer_v2/adagrad.py:81: UserWarning: The `lr` argument is deprecated, use `learning_rate` instead.\n",
      "  super().__init__(name, **kwargs)\n"
     ]
    },
    {
     "name": "stdout",
     "output_type": "stream",
     "text": [
      "2.10.0\n",
      "Warning: path_to_write is not empty! The old files in the directory may not be overwritten!!\n"
     ]
    },
    {
     "name": "stderr",
     "output_type": "stream",
     "text": [
      "2022-09-23 21:44:22.922502: I tensorflow/stream_executor/cuda/cuda_gpu_executor.cc:980] successful NUMA node read from SysFS had negative value (-1), but there must be at least one NUMA node, so returning NUMA node zero\n",
      "2022-09-23 21:44:22.940076: I tensorflow/stream_executor/cuda/cuda_gpu_executor.cc:980] successful NUMA node read from SysFS had negative value (-1), but there must be at least one NUMA node, so returning NUMA node zero\n",
      "2022-09-23 21:44:22.940188: I tensorflow/stream_executor/cuda/cuda_gpu_executor.cc:980] successful NUMA node read from SysFS had negative value (-1), but there must be at least one NUMA node, so returning NUMA node zero\n"
     ]
    }
   ],
   "source": [
    "import tensorflow as tf\n",
    "import numpy as np\n",
    "from PIL import Image\n",
    "import rasterio\n",
    "import imgaug as ia\n",
    "from imgaug import augmenters as iaa\n",
    "from tensorflow.keras.preprocessing.image import ImageDataGenerator\n",
    "\n",
    "import imageio\n",
    "import os\n",
    "import time\n",
    "import rasterio.warp             # Reproect raster samples\n",
    "from functools import reduce\n",
    "from tensorflow.keras.models import load_model\n",
    "\n",
    "from core.UNet import UNet\n",
    "from core.losses import tversky, accuracy, dice_coef, dice_loss, specificity, sensitivity\n",
    "from core.optimizers import adaDelta, adagrad, adam, nadam\n",
    "from core.frame_info import FrameInfo\n",
    "from core.dataset_generator import DataGenerator\n",
    "from core.split_frames import split_dataset\n",
    "from core.visualize import display_images\n",
    "\n",
    "import json\n",
    "from sklearn.model_selection import train_test_split\n",
    "\n",
    "%matplotlib inline\n",
    "import matplotlib.pyplot as plt  # plotting tools\n",
    "import matplotlib.patches as patches\n",
    "from matplotlib.patches import Polygon\n",
    "\n",
    "import warnings                  # ignore annoying warnings\n",
    "warnings.filterwarnings(\"ignore\")\n",
    "import logging\n",
    "logger = logging.getLogger()\n",
    "logger.setLevel(logging.CRITICAL)\n",
    "\n",
    "%reload_ext autoreload\n",
    "%autoreload 2\n",
    "from IPython.core.interactiveshell import InteractiveShell\n",
    "InteractiveShell.ast_node_interactivity = \"all\"\n",
    "\n",
    "print(tf.__version__)\n",
    "tf.config.list_physical_devices('GPU')\n",
    "from configx import Preprocessing_prediction\n",
    "config = Preprocessing_prediction.Configuration(folder=\"full_area3\")\n"
   ]
  },
  {
   "cell_type": "code",
   "execution_count": 2,
   "metadata": {},
   "outputs": [
    {
     "name": "stderr",
     "output_type": "stream",
     "text": [
      "2022-09-23 21:44:28.202767: I tensorflow/core/platform/cpu_feature_guard.cc:193] This TensorFlow binary is optimized with oneAPI Deep Neural Network Library (oneDNN) to use the following CPU instructions in performance-critical operations:  AVX2 AVX_VNNI FMA\n",
      "To enable them in other operations, rebuild TensorFlow with the appropriate compiler flags.\n",
      "2022-09-23 21:44:28.204421: I tensorflow/stream_executor/cuda/cuda_gpu_executor.cc:980] successful NUMA node read from SysFS had negative value (-1), but there must be at least one NUMA node, so returning NUMA node zero\n",
      "2022-09-23 21:44:28.204555: I tensorflow/stream_executor/cuda/cuda_gpu_executor.cc:980] successful NUMA node read from SysFS had negative value (-1), but there must be at least one NUMA node, so returning NUMA node zero\n",
      "2022-09-23 21:44:28.204612: I tensorflow/stream_executor/cuda/cuda_gpu_executor.cc:980] successful NUMA node read from SysFS had negative value (-1), but there must be at least one NUMA node, so returning NUMA node zero\n",
      "2022-09-23 21:44:28.478097: I tensorflow/stream_executor/cuda/cuda_gpu_executor.cc:980] successful NUMA node read from SysFS had negative value (-1), but there must be at least one NUMA node, so returning NUMA node zero\n",
      "2022-09-23 21:44:28.478220: I tensorflow/stream_executor/cuda/cuda_gpu_executor.cc:980] successful NUMA node read from SysFS had negative value (-1), but there must be at least one NUMA node, so returning NUMA node zero\n",
      "2022-09-23 21:44:28.478279: I tensorflow/stream_executor/cuda/cuda_gpu_executor.cc:980] successful NUMA node read from SysFS had negative value (-1), but there must be at least one NUMA node, so returning NUMA node zero\n",
      "2022-09-23 21:44:28.478330: I tensorflow/core/common_runtime/gpu/gpu_device.cc:1616] Created device /job:localhost/replica:0/task:0/device:GPU:0 with 9796 MB memory:  -> device: 0, name: NVIDIA GeForce RTX 3060, pci bus id: 0000:01:00.0, compute capability: 8.6\n"
     ]
    }
   ],
   "source": [
    "# Define the model and compile it\n",
    "OPTIMIZER = adaDelta\n",
    "LOSS = tversky \n",
    "\n",
    "#Only for the name of the model in the very end\n",
    "OPTIMIZER_NAME = 'AdaDelta'\n",
    "LOSS_NAME = 'weightmap_tversky'\n",
    "model_path = \"/home/lenovo/code/TreeSeg/notebooks/saved_models/UNet/model.h5\"\n",
    "model = load_model(model_path, custom_objects={'tversky': LOSS, 'dice_coef': dice_coef, 'dice_loss':dice_loss, 'accuracy':accuracy , 'specificity': specificity, 'sensitivity':sensitivity}, compile=False)\n"
   ]
  },
  {
   "cell_type": "code",
   "execution_count": 5,
   "metadata": {},
   "outputs": [
    {
     "name": "stdout",
     "output_type": "stream",
     "text": [
      "[[599.      598.57166 597.50604 ... 624.9581  622.83    622.     ]\n",
      " [600.2499  599.761   598.5428  ... 626.0833  623.9714  623.1478 ]\n",
      " [603.3792  602.7381  601.1365  ... 628.94855 626.88513 626.0806 ]\n",
      " ...\n",
      " [584.82654 584.1055  582.25684 ... 562.51117 559.39923 558.192  ]\n",
      " [588.5116  587.61365 585.3056  ... 555.5228  552.7089  551.6315 ]\n",
      " [590.      589.0314  586.53986 ... 552.7357  550.0299  549.     ]]\n",
      "1/1 [==============================] - 0s 14ms/step\n",
      "(1, 256, 256, 1)\n",
      "shape:  (1, 256, 256, 3)\n"
     ]
    },
    {
     "data": {
      "image/png": "[encoded data removed]",
      "text/plain": [
       "<Figure size 640x480 with 3 Axes>"
      ]
     },
     "metadata": {},
     "output_type": "display_data"
    }
   ],
   "source": [
    "#write_dir=\"/media/lenovo/Elements SE/niyang_result_test/\"\n",
    "write_dir=\"/media/lenovo/Elements SE/niyang_result_png/\"\n",
    "resize_dataset_dir = \"/media/lenovo/palsar(部分压缩包)/resize_test/\"\n",
    "\n",
    "for fn in range(0,1):\n",
    "    for idx in range(1,2):\n",
    "        ndvi_img= np.load(resize_dataset_dir+f\"{fn}_{idx}_ndvi.npy\")\n",
    "        pan_img = np.load(resize_dataset_dir+f\"{fn}_{idx}_pan.npy\")\n",
    "        # print(ndvi_img)\n",
    "        print(pan_img)\n",
    "        comb_img = np.stack((ndvi_img, pan_img), axis=0)\n",
    "        comb_img = np.transpose(comb_img, axes=(1,2,0)) #Channel at the end\n",
    "        comb_img = comb_img[np.newaxis,:]\n",
    "        prediction = model.predict(comb_img, steps=1)\n",
    "        prediction[prediction>0.5]=1\n",
    "        prediction[prediction<=0.5]=0\n",
    "        \n",
    "        p=np.concatenate((comb_img , prediction), axis = -1)\n",
    "        print(prediction.shape)\n",
    "        display_images(p,titles=None, cmap=fn, norm=idx, interpolation=None, save=True, dir=write_dir)\n",
    "\n",
    "\n",
    "\n"
   ]
  },
  {
   "cell_type": "code",
   "execution_count": null,
   "metadata": {},
   "outputs": [
    {
     "name": "stdout",
     "output_type": "stream",
     "text": [
      "1/1 [==============================] - 0s 10ms/step\n",
      "(1, 256, 256, 1)\n",
      "shape:  (1, 256, 256, 3)\n"
     ]
    },
    {
     "data": {
      "image/png": "[encoded data removed]",
      "text/plain": [
       "<Figure size 640x480 with 3 Axes>"
      ]
     },
     "metadata": {},
     "output_type": "display_data"
    }
   ],
   "source": [
    "fn=0\n",
    "idx=1\n",
    "ndvi_img= np.load(resize_dataset_dir+f\"{fn}_{idx}_ndvi.npy\")\n",
    "pan_img = np.load(resize_dataset_dir+f\"{fn}_{idx}_pan.npy\")\n",
    "comb_img = np.stack((ndvi_img, pan_img), axis=0)\n",
    "comb_img = np.transpose(comb_img, axes=(1,2,0)) #Channel at the end\n",
    "comb_img = comb_img[np.newaxis,:]\n",
    "prediction = model.predict(comb_img, steps=1)\n",
    "prediction[prediction>0.5]=1\n",
    "prediction[prediction<=0.5]=0\n",
    "print(prediction.shape)\n",
    "p=np.concatenate((comb_img , prediction), axis = -1)\n",
    "#titless=f\"{fn}_{idx}\"\n",
    "display_images(p,titles=None, cmap=fn, norm=idx, interpolation=None, save=True, dir=write_dir)\n"
   ]
  },
  {
   "cell_type": "code",
   "execution_count": 15,
   "metadata": {},
   "outputs": [
    {
     "name": "stdout",
     "output_type": "stream",
     "text": [
      "[   56    57    58    59    60    61    62    63    64    65    66    67\n",
      "    68    69    70    71    72    73    74    75    76    77    78    79\n",
      "    80    81    82    83    84    85    86    87    88    89    90    91\n",
      "    92    93    94    95    96    97    98    99   100   101   102   103\n",
      "   104   105   106   107   108   109   110   111   112   113   114   115\n",
      "   116   117   118   119   120   121   122   123   124   125   126   127\n",
      "   128   129   130   131   132   133   134   135   136   137   138   139\n",
      "   140   141   142   143   144   145   146   147   148   149   150   151\n",
      "   152   153   154   155   156   157   158   159   160   161   162   163\n",
      "   164   165   166   167   168   169   170   171   172   173   174   175\n",
      "   176   177   178   179   180   181   182   183   184   185   186   187\n",
      "   188   189   190   191   192   193   194   195   196   197   198   199\n",
      "   200   201   202   203   204   205   206   207   208   209   210   211\n",
      "   212   213   214   215   216   217   218   219   220   221   222   223\n",
      "   224   225   226   227   228   229   230   231   232   233   234   235\n",
      "   236   237   238   239   240   241   242   243   244   245   246   247\n",
      "   248   249   250   251   252   253   254   255   256   257   258   259\n",
      "   260   261   262   263   264   265   266   267   268   269   270   271\n",
      "   272   273   274   275   276   277   278   279   280   281   282   283\n",
      "   284   285   286   287   288   289   290   291   292   293   294   295\n",
      "   296   297   298   299   300   301   302   303   304   305   306   307\n",
      "   308   309   310   311   312   313   314   315   316   317   318   319\n",
      "   320   321   322   323   324   325   326   327   328   329   330   331\n",
      "   332   333   334   335   336   337   338   339   340   341   342   343\n",
      "   344   345   346   347   348   349   350   351   352   353   354   355\n",
      "   356   357   358   359   360   361   362   363   364   365   366   367\n",
      "   368   369   370   371   372   373   374   375   376   377   378   379\n",
      "   380   381   382   383   384   385   386   387   388   389   390   391\n",
      "   392   393   394   395   396   397   398   399   400   401   402   403\n",
      "   404   405   406   407   408   409   410   411   412   413   414   415\n",
      "   416   417   418   419   420   421   422   423   424   425   426   427\n",
      "   428   429   430   431   432   433   434   435   436   437   438   439\n",
      "   440   441   442   443   444   445   446   447   448   449   450   451\n",
      "   452   453   454   455   456   457   458   459   460   461   462   463\n",
      "   464   465   466   467   468   469   470   471   472   473   474   475\n",
      "   476   477   478   479   480   481   482   483   484   485   486   487\n",
      "   488   489   490   491   492   493   494   495   496   497   498   499\n",
      "   500   501   502   503   504   505   506   507   508   509   510   511\n",
      "   512   513   514   515   516   517   518   519   520   521   522   523\n",
      "   524   525   526   527   528   529   530   531   532   533   534   535\n",
      "   536   537   538   539   540   541   542   543   544   545   546   547\n",
      "   548   549   550   551   552   553   554   555   556   557   558   559\n",
      "   560   561   562   563   564   565   566   567   568   569   570   571\n",
      "   572   573   574   575   576   577   578   579   580   581   582   583\n",
      "   584   585   586   587   588   589   590   591   592   593   594   595\n",
      "   596   597   598   599   600   601   602   603   604   605   606   607\n",
      "   608   609   610   611   612   613   614   615   616   617   618   619\n",
      "   620   621   622   623   624   625   626   627   628   629   630   631\n",
      "   632   633   634   635   636   637   638   639   640   641   642   643\n",
      "   644   645   646   647   648   649   650   651   652   653   654   655\n",
      "   656   657   658   659   660   661   662   663   664   665   666   667\n",
      "   668   669   670   671   672   673   674   675   676   677   678   679\n",
      "   680   681   682   683   684   685   686   687   688   689   690   691\n",
      "   692   693   694   695   696   697   698   699   700   701   702   703\n",
      "   704   705   706   707   708   709   710   711   712   713   714   715\n",
      "   716   717   718   719   720   721   722   723   724   725   726   727\n",
      "   728   729   730   731   732   733   734   735   736   737   738   739\n",
      "   740   741   742   743   744   745   746   747   748   749   750   751\n",
      "   752   753   754   755   756   757   758   759   760   761   762   763\n",
      "   764   765   766   767   768   769   770   771   772   773   774   775\n",
      "   776   777   778   779   780   781   782   783   784   785   786   787\n",
      "   788   789   790   791   792   793   794   795   796   797   798   799\n",
      "   800   801   802   803   804   805   806   807   808   809   810   811\n",
      "   812   813   814   815   816   817   818   819   820   821   822   823\n",
      "   824   825   826   827   828   829   830   831   832   833   834   835\n",
      "   836   837   838   839   840   841   842   843   844   845   846   847\n",
      "   848   849   850   851   852   853   854   855   856   857   858   859\n",
      "   860   861   862   863   864   865   866   867   868   869   870   871\n",
      "   872   873   874   875   876   877   878   879   880   881   882   883\n",
      "   884   885   886   887   888   889   890   891   892   893   894   895\n",
      "   896   897   898   899   900   901   902   903   904   905   906   907\n",
      "   908   909   910   911   912   913   914   915   916   917   918   919\n",
      "   920   921   922   923   924   925   926   927   928   929   930   931\n",
      "   932   933   934   935   936   937   938   939   940   941   942   943\n",
      "   944   945   946   947   948   949   950   951   952   953   954   955\n",
      "   956   957   958   959   960   961   962   963   964   965   966   967\n",
      "   968   969   970   971   972   973   974   975   976   977   978   979\n",
      "   980   981   982   983   984   985   986   987   988   989   990   991\n",
      "   992   993   994   995   996   997   998   999  1000  1001  1002  1003\n",
      "  1004  1005  1006  1007  1008  1009  1010  1011  1012 65535]\n"
     ]
    },
    {
     "data": {
      "image/png": "[encoded data removed]",
      "text/plain": [
       "<Figure size 640x480 with 1 Axes>"
      ]
     },
     "metadata": {},
     "output_type": "display_data"
    }
   ],
   "source": [
    "import matplotlib.pyplot as plt\n",
    "import rasterio\n",
    "import numpy as np\n",
    "\n",
    "def image_normalize(im, axis = (0,1), c = 1e-8):\n",
    "    '''\n",
    "    Normalize to zero mean and unit standard deviation along the given axis'''\n",
    "    return (im - im.mean(axis)) / (im.std(axis) + c)\n",
    "\n",
    "# img = rasterio.open(\"/home/winter/code-resources/treeseg/test/interm_png/ndvi-0-area0.png\").read(1)\n",
    "img = rasterio.open(\"/home/winter/code-resources/treeseg/test/tif/pan-0.tif\").read(1)\n",
    "print(np.unique(img))\n",
    "plt.imshow(img)\n",
    "plt.show()"
   ]
  },
  {
   "cell_type": "code",
   "execution_count": null,
   "metadata": {},
   "outputs": [],
   "source": []
  }
 ],
 "metadata": {
  "accelerator": "GPU",
  "colab": {
   "authorship_tag": "ABX9TyOeYCBzQRMr8FXNUC8za+ng",
   "collapsed_sections": [],
   "name": "step3-Training.ipynb",
   "provenance": []
  },
  "kernelspec": {
   "display_name": "Python 3.7.13 ('treeseg')",
   "language": "python",
   "name": "python3"
  },
  "language_info": {
   "codemirror_mode": {
    "name": "ipython",
    "version": 3
   },
   "file_extension": ".py",
   "mimetype": "text/x-python",
   "name": "python",
   "nbconvert_exporter": "python",
   "pygments_lexer": "ipython3",
   "version": "3.7.13"
  },
  "vscode": {
   "interpreter": {
    "hash": "ba0c6fa25d8e2d3ce77205862229ed71a79dbd0fb80588254b2a0e2f2cdd970f"
   }
  }
 },
 "nbformat": 4,
 "nbformat_minor": 1
}
