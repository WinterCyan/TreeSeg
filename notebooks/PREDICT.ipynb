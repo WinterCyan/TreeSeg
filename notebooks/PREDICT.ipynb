{
 "cells": [
  {
   "cell_type": "markdown",
   "metadata": {
    "colab_type": "text",
    "id": "wMZ8F_jEtyIR"
   },
   "source": [
    "   Author: Ankit Kariryaa, University of Bremen"
   ]
  },
  {
   "cell_type": "markdown",
   "metadata": {},
   "source": [
    "### Getting started\n",
    "Define the paths to the dataset and trained models in the `notebooks/config/UNetTraining.py` file.  "
   ]
  },
  {
   "cell_type": "markdown",
   "metadata": {},
   "source": []
  },
  {
   "cell_type": "code",
   "execution_count": 1,
   "metadata": {},
   "outputs": [
    {
     "name": "stderr",
     "output_type": "stream",
     "text": [
      "2022-09-23 21:44:21.499111: I tensorflow/core/platform/cpu_feature_guard.cc:193] This TensorFlow binary is optimized with oneAPI Deep Neural Network Library (oneDNN) to use the following CPU instructions in performance-critical operations:  AVX2 AVX_VNNI FMA\n",
      "To enable them in other operations, rebuild TensorFlow with the appropriate compiler flags.\n",
      "2022-09-23 21:44:21.571154: I tensorflow/core/util/util.cc:169] oneDNN custom operations are on. You may see slightly different numerical results due to floating-point round-off errors from different computation orders. To turn them off, set the environment variable `TF_ENABLE_ONEDNN_OPTS=0`.\n",
      "2022-09-23 21:44:21.590451: E tensorflow/stream_executor/cuda/cuda_blas.cc:2981] Unable to register cuBLAS factory: Attempting to register factory for plugin cuBLAS when one has already been registered\n",
      "2022-09-23 21:44:21.987172: W tensorflow/stream_executor/platform/default/dso_loader.cc:64] Could not load dynamic library 'libnvinfer.so.7'; dlerror: libnvinfer.so.7: cannot open shared object file: No such file or directory; LD_LIBRARY_PATH: /usr/local/cuda/lib64:\n",
      "2022-09-23 21:44:21.987210: W tensorflow/stream_executor/platform/default/dso_loader.cc:64] Could not load dynamic library 'libnvinfer_plugin.so.7'; dlerror: libnvinfer_plugin.so.7: cannot open shared object file: No such file or directory; LD_LIBRARY_PATH: /usr/local/cuda/lib64:\n",
      "2022-09-23 21:44:21.987213: W tensorflow/compiler/tf2tensorrt/utils/py_utils.cc:38] TF-TRT Warning: Cannot dlopen some TensorRT libraries. If you would like to use Nvidia GPU with TensorRT, please make sure the missing libraries mentioned above are installed properly.\n",
      "/home/lenovo/miniconda3/envs/tf-nov/lib/python3.7/site-packages/keras/optimizers/optimizer_v2/adadelta.py:79: UserWarning: The `lr` argument is deprecated, use `learning_rate` instead.\n",
      "  super().__init__(name, **kwargs)\n",
      "/home/lenovo/miniconda3/envs/tf-nov/lib/python3.7/site-packages/keras/optimizers/optimizer_v2/adam.py:114: UserWarning: The `lr` argument is deprecated, use `learning_rate` instead.\n",
      "  super().__init__(name, **kwargs)\n",
      "/home/lenovo/miniconda3/envs/tf-nov/lib/python3.7/site-packages/keras/optimizers/optimizer_v2/nadam.py:86: UserWarning: The `lr` argument is deprecated, use `learning_rate` instead.\n",
      "  super().__init__(name, **kwargs)\n",
      "/home/lenovo/miniconda3/envs/tf-nov/lib/python3.7/site-packages/keras/optimizers/optimizer_v2/adagrad.py:81: UserWarning: The `lr` argument is deprecated, use `learning_rate` instead.\n",
      "  super().__init__(name, **kwargs)\n"
     ]
    },
    {
     "name": "stdout",
     "output_type": "stream",
     "text": [
      "2.10.0\n",
      "Warning: path_to_write is not empty! The old files in the directory may not be overwritten!!\n"
     ]
    },
    {
     "name": "stderr",
     "output_type": "stream",
     "text": [
      "2022-09-23 21:44:22.922502: I tensorflow/stream_executor/cuda/cuda_gpu_executor.cc:980] successful NUMA node read from SysFS had negative value (-1), but there must be at least one NUMA node, so returning NUMA node zero\n",
      "2022-09-23 21:44:22.940076: I tensorflow/stream_executor/cuda/cuda_gpu_executor.cc:980] successful NUMA node read from SysFS had negative value (-1), but there must be at least one NUMA node, so returning NUMA node zero\n",
      "2022-09-23 21:44:22.940188: I tensorflow/stream_executor/cuda/cuda_gpu_executor.cc:980] successful NUMA node read from SysFS had negative value (-1), but there must be at least one NUMA node, so returning NUMA node zero\n"
     ]
    }
   ],
   "source": [
    "import tensorflow as tf\n",
    "import numpy as np\n",
    "from PIL import Image\n",
    "import rasterio\n",
    "import imgaug as ia\n",
    "from imgaug import augmenters as iaa\n",
    "from tensorflow.keras.preprocessing.image import ImageDataGenerator\n",
    "\n",
    "import imageio\n",
    "import os\n",
    "import time\n",
    "import rasterio.warp             # Reproect raster samples\n",
    "from functools import reduce\n",
    "from tensorflow.keras.models import load_model\n",
    "\n",
    "from core.UNet import UNet\n",
    "from core.losses import tversky, accuracy, dice_coef, dice_loss, specificity, sensitivity\n",
    "from core.optimizers import adaDelta, adagrad, adam, nadam\n",
    "from core.frame_info import FrameInfo\n",
    "from core.dataset_generator import DataGenerator\n",
    "from core.split_frames import split_dataset\n",
    "from core.visualize import display_images\n",
    "\n",
    "import json\n",
    "from sklearn.model_selection import train_test_split\n",
    "\n",
    "%matplotlib inline\n",
    "import matplotlib.pyplot as plt  # plotting tools\n",
    "import matplotlib.patches as patches\n",
    "from matplotlib.patches import Polygon\n",
    "\n",
    "import warnings                  # ignore annoying warnings\n",
    "warnings.filterwarnings(\"ignore\")\n",
    "import logging\n",
    "logger = logging.getLogger()\n",
    "logger.setLevel(logging.CRITICAL)\n",
    "\n",
    "%reload_ext autoreload\n",
    "%autoreload 2\n",
    "from IPython.core.interactiveshell import InteractiveShell\n",
    "InteractiveShell.ast_node_interactivity = \"all\"\n",
    "\n",
    "print(tf.__version__)\n",
    "tf.config.list_physical_devices('GPU')\n",
    "from configx import Preprocessing_prediction\n",
    "config = Preprocessing_prediction.Configuration(folder=\"full_area3\")\n"
   ]
  },
  {
   "cell_type": "code",
   "execution_count": 2,
   "metadata": {},
   "outputs": [
    {
     "name": "stderr",
     "output_type": "stream",
     "text": [
      "2022-09-23 21:44:28.202767: I tensorflow/core/platform/cpu_feature_guard.cc:193] This TensorFlow binary is optimized with oneAPI Deep Neural Network Library (oneDNN) to use the following CPU instructions in performance-critical operations:  AVX2 AVX_VNNI FMA\n",
      "To enable them in other operations, rebuild TensorFlow with the appropriate compiler flags.\n",
      "2022-09-23 21:44:28.204421: I tensorflow/stream_executor/cuda/cuda_gpu_executor.cc:980] successful NUMA node read from SysFS had negative value (-1), but there must be at least one NUMA node, so returning NUMA node zero\n",
      "2022-09-23 21:44:28.204555: I tensorflow/stream_executor/cuda/cuda_gpu_executor.cc:980] successful NUMA node read from SysFS had negative value (-1), but there must be at least one NUMA node, so returning NUMA node zero\n",
      "2022-09-23 21:44:28.204612: I tensorflow/stream_executor/cuda/cuda_gpu_executor.cc:980] successful NUMA node read from SysFS had negative value (-1), but there must be at least one NUMA node, so returning NUMA node zero\n",
      "2022-09-23 21:44:28.478097: I tensorflow/stream_executor/cuda/cuda_gpu_executor.cc:980] successful NUMA node read from SysFS had negative value (-1), but there must be at least one NUMA node, so returning NUMA node zero\n",
      "2022-09-23 21:44:28.478220: I tensorflow/stream_executor/cuda/cuda_gpu_executor.cc:980] successful NUMA node read from SysFS had negative value (-1), but there must be at least one NUMA node, so returning NUMA node zero\n",
      "2022-09-23 21:44:28.478279: I tensorflow/stream_executor/cuda/cuda_gpu_executor.cc:980] successful NUMA node read from SysFS had negative value (-1), but there must be at least one NUMA node, so returning NUMA node zero\n",
      "2022-09-23 21:44:28.478330: I tensorflow/core/common_runtime/gpu/gpu_device.cc:1616] Created device /job:localhost/replica:0/task:0/device:GPU:0 with 9796 MB memory:  -> device: 0, name: NVIDIA GeForce RTX 3060, pci bus id: 0000:01:00.0, compute capability: 8.6\n"
     ]
    }
   ],
   "source": [
    "# Define the model and compile it\n",
    "OPTIMIZER = adaDelta\n",
    "LOSS = tversky \n",
    "\n",
    "#Only for the name of the model in the very end\n",
    "OPTIMIZER_NAME = 'AdaDelta'\n",
    "LOSS_NAME = 'weightmap_tversky'\n",
    "model_path = \"/home/lenovo/code/TreeSeg/notebooks/saved_models/UNet/model.h5\"\n",
    "model = load_model(model_path, custom_objects={'tversky': LOSS, 'dice_coef': dice_coef, 'dice_loss':dice_loss, 'accuracy':accuracy , 'specificity': specificity, 'sensitivity':sensitivity}, compile=False)\n"
   ]
  },
  {
   "cell_type": "code",
   "execution_count": 5,
   "metadata": {},
   "outputs": [
    {
     "name": "stdout",
     "output_type": "stream",
     "text": [
      "[[599.      598.57166 597.50604 ... 624.9581  622.83    622.     ]\n",
      " [600.2499  599.761   598.5428  ... 626.0833  623.9714  623.1478 ]\n",
      " [603.3792  602.7381  601.1365  ... 628.94855 626.88513 626.0806 ]\n",
      " ...\n",
      " [584.82654 584.1055  582.25684 ... 562.51117 559.39923 558.192  ]\n",
      " [588.5116  587.61365 585.3056  ... 555.5228  552.7089  551.6315 ]\n",
      " [590.      589.0314  586.53986 ... 552.7357  550.0299  549.     ]]\n",
      "1/1 [==============================] - 0s 14ms/step\n",
      "(1, 256, 256, 1)\n",
      "shape:  (1, 256, 256, 3)\n"
     ]
    },
    {
     "data": {
      "image/png": "[encoded data removed]",
      "text/plain": [
       "<Figure size 640x480 with 3 Axes>"
      ]
     },
     "metadata": {},
     "output_type": "display_data"
    }
   ],
   "source": [
    "#write_dir=\"/media/lenovo/Elements SE/niyang_result_test/\"\n",
    "write_dir=\"/media/lenovo/Elements SE/niyang_result_png/\"\n",
    "resize_dataset_dir = \"/media/lenovo/palsar(部分压缩包)/resize_test/\"\n",
    "\n",
    "for fn in range(0,1):\n",
    "    for idx in range(1,2):\n",
    "        ndvi_img= np.load(resize_dataset_dir+f\"{fn}_{idx}_ndvi.npy\")\n",
    "        pan_img = np.load(resize_dataset_dir+f\"{fn}_{idx}_pan.npy\")\n",
    "        # print(ndvi_img)\n",
    "        print(pan_img)\n",
    "        comb_img = np.stack((ndvi_img, pan_img), axis=0)\n",
    "        comb_img = np.transpose(comb_img, axes=(1,2,0)) #Channel at the end\n",
    "        comb_img = comb_img[np.newaxis,:]\n",
    "        prediction = model.predict(comb_img, steps=1)\n",
    "        prediction[prediction>0.5]=1\n",
    "        prediction[prediction<=0.5]=0\n",
    "        \n",
    "        p=np.concatenate((comb_img , prediction), axis = -1)\n",
    "        print(prediction.shape)\n",
    "        display_images(p,titles=None, cmap=fn, norm=idx, interpolation=None, save=True, dir=write_dir)\n",
    "\n",
    "\n",
    "\n"
   ]
  },
  {
   "cell_type": "code",
   "execution_count": null,
   "metadata": {},
   "outputs": [
    {
     "name": "stdout",
     "output_type": "stream",
     "text": [
      "1/1 [==============================] - 0s 10ms/step\n",
      "(1, 256, 256, 1)\n",
      "shape:  (1, 256, 256, 3)\n"
     ]
    },
    {
     "data": {
      "image/png": "[encoded data removed]",
      "text/plain": [
       "<Figure size 640x480 with 3 Axes>"
      ]
     },
     "metadata": {},
     "output_type": "display_data"
    }
   ],
   "source": [
    "fn=0\n",
    "idx=1\n",
    "ndvi_img= np.load(resize_dataset_dir+f\"{fn}_{idx}_ndvi.npy\")\n",
    "pan_img = np.load(resize_dataset_dir+f\"{fn}_{idx}_pan.npy\")\n",
    "comb_img = np.stack((ndvi_img, pan_img), axis=0)\n",
    "comb_img = np.transpose(comb_img, axes=(1,2,0)) #Channel at the end\n",
    "comb_img = comb_img[np.newaxis,:]\n",
    "prediction = model.predict(comb_img, steps=1)\n",
    "prediction[prediction>0.5]=1\n",
    "prediction[prediction<=0.5]=0\n",
    "print(prediction.shape)\n",
    "p=np.concatenate((comb_img , prediction), axis = -1)\n",
    "#titless=f\"{fn}_{idx}\"\n",
    "display_images(p,titles=None, cmap=fn, norm=idx, interpolation=None, save=True, dir=write_dir)\n"
   ]
  },
  {
   "cell_type": "code",
   "execution_count": 12,
   "metadata": {},
   "outputs": [
    {
     "name": "stdout",
     "output_type": "stream",
     "text": [
      "[-0.5791353  -0.5791     -0.5790647  -0.57902944 -0.57899415 -0.5789588\n",
      " -0.5789235  -0.57888824 -0.57885295 -0.57881767 -0.5787823  -0.57874703\n",
      " -0.57871175 -0.57867646 -0.5786412  -0.57860583 -0.57857054 -0.57853526\n",
      " -0.5785     -0.5784647  -0.57842934 -0.57839406 -0.57835877 -0.5783235\n",
      " -0.5782882  -0.57825285 -0.57821757 -0.5781823  -0.578147   -0.5781117\n",
      " -0.57807636 -0.5780411  -0.5780058  -0.5779705  -0.5779352  -0.5778999\n",
      " -0.5778646  -0.5778293  -0.577794   -0.5777587  -0.57772344 -0.5776881\n",
      " -0.5776528  -0.5776175  -0.57758224 -0.57754695 -0.5775116  -0.5774763\n",
      " -0.57744104 -0.57740575 -0.57737046 -0.5773351  -0.57729983 -0.57726455\n",
      " -0.57722926 -0.577194   -0.57715863 -0.57712334 -0.57708806 -0.5770528\n",
      " -0.5770175  -0.57698214 -0.57694685 -0.57691157 -0.5768763  -0.576841\n",
      " -0.57680565 -0.57677037 -0.5767351  -0.5766998  -0.5766645  -0.57662916\n",
      " -0.5765939  -0.5765586  -0.5765233  -0.576488   -0.5764527  -0.5764174\n",
      " -0.5763821  -0.5763468  -0.5763115  -0.5762762  -0.5762409  -0.5762056\n",
      " -0.5761703  -0.57613504 -0.57609975 -0.5760644  -0.5760291  -0.57599384\n",
      " -0.57595855 -0.57592326 -0.5758879  -0.57585263 -0.57581735 -0.57578206\n",
      " -0.5757468  -0.5757114  -0.57567614 -0.57564086 -0.5756056  -0.5755703\n",
      " -0.57553494 -0.57549965 -0.57546437 -0.5754291  -0.5753938  -0.57535845\n",
      " -0.57532316 -0.5752879  -0.5752526  -0.5752173  -0.57518196 -0.5751467\n",
      " -0.5751114  -0.5750761  -0.5750408  -0.5750055  -0.5749702  -0.5749349\n",
      " -0.5748996  -0.5748643  -0.574829   -0.5747937  -0.5747584  -0.5747231\n",
      " -0.57468784 -0.5746525  -0.5746172  -0.5745819  -0.57454664 -0.57451135\n",
      " -0.57447606 -0.5744407  -0.57440543 -0.57437015 -0.57433486 -0.5742996\n",
      " -0.5742642  -0.57422894 -0.57419366 -0.5741584  -0.5741231  -0.57408774\n",
      " -0.57405245 -0.57401717 -0.5739819  -0.5739466  -0.57391125 -0.57387596\n",
      " -0.5738407  -0.5738054  -0.5737701  -0.57373476 -0.5736995  -0.5736642\n",
      " -0.5736289  -0.5735936  -0.5735583  -0.573523   -0.5734877  -0.5734524\n",
      " -0.5734171  -0.5733818  -0.5733465  -0.5733112  -0.5732759  -0.57324064\n",
      " -0.5732053  -0.57317    -0.5731347  -0.57309943 -0.57306415 -0.5730288\n",
      " -0.5729935  -0.57295823 -0.57292295 -0.57288766 -0.5728524  -0.572817\n",
      " -0.57278174 -0.57274646 -0.57271117 -0.5726759  -0.57264054 -0.57260525\n",
      " -0.57256997 -0.5725347  -0.5724994  -0.57246405 -0.57242876 -0.5723935\n",
      " -0.5723582  -0.5723229  -0.57228756 -0.5722523  -0.572217   -0.5721817\n",
      " -0.5721464  -0.57211107 -0.5720758  -0.5720405  -0.5720052  -0.5719699\n",
      " -0.5719346  -0.5718993  -0.571864   -0.5718287  -0.57179344 -0.5717581\n",
      " -0.5717228  -0.5716875  -0.57165223 -0.57161695 -0.5715816  -0.5715463\n",
      " -0.57151103 -0.57147574 -0.57144046 -0.5714051  -0.5713698  -0.57133454\n",
      " -0.57129925 -0.57126397 -0.5712287  -0.57119334 -0.57115805 -0.57112277\n",
      " -0.5710875  -0.5710522  -0.57101685 -0.57098156 -0.5709463  -0.570911\n",
      " -0.5708757  -0.57084036 -0.5708051  -0.5707698  -0.5707345  -0.5706992\n",
      " -0.57066387 -0.5706286  -0.5705933  -0.570558   -0.5705227  -0.5704874\n",
      " -0.5704521  -0.5704168  -0.5703815  -0.57034624 -0.5703109  -0.5702756\n",
      " -0.5702403  -0.57020503 -0.57016975 -0.5701344  -0.5700991  -0.5700638\n",
      " -0.57002854 -0.56999326 -0.5699579  -0.5699226  -0.56988734 -0.56985205\n",
      " -0.56981677 -0.5697814  -0.56974614 -0.56971085 -0.56967556 -0.5696403\n",
      " -0.569605   -0.56956965 -0.56953436 -0.5694991  -0.5694638  -0.5694285\n",
      " -0.56939316 -0.5693579  -0.5693226  -0.5692873  -0.569252   -0.56921667\n",
      " -0.5691814  -0.5691461  -0.5691108  -0.5690755  -0.5690402  -0.5690049\n",
      " -0.5689696  -0.5689343  -0.56889904 -0.5688637  -0.5688284  -0.5687931\n",
      " -0.56875783 -0.56872255 -0.5686872  -0.5686519  -0.5686166  -0.56858134\n",
      " -0.56854606 -0.5685107  -0.5684754  -0.56844014 -0.56840485 -0.56836957\n",
      " -0.5683342  -0.56829894 -0.56826365 -0.56822836 -0.5681931  -0.56815773\n",
      " -0.56812245 -0.56808716 -0.5680519  -0.5680166  -0.5679813  -0.56794596\n",
      " -0.5679107  -0.5678754  -0.5678401  -0.5678048  -0.56776947 -0.5677342\n",
      " -0.5676989  -0.5676636  -0.567593   -0.5675577  -0.5675224  -0.5674871\n",
      " -0.56745183 -0.5674165  -0.5673812  -0.5673459  -0.56731063 -0.56727535\n",
      " -0.56724    -0.5672047  -0.5671694  -0.56713414 -0.56709886 -0.5670282\n",
      " -0.56699294 -0.56695765 -0.56692237 -0.566887   -0.56685174 -0.56681645\n",
      " -0.56678116 -0.5667459  -0.56671053 -0.56667525 -0.56663996 -0.5666047\n",
      " -0.5665694  -0.56649876 -0.5664635  -0.5664282  -0.5663929  -0.56635755\n",
      " -0.566287   -0.5662517  -0.5662164  -0.5661458  -0.5661105  -0.5660752\n",
      " -0.5659693  -0.565934   -0.5658987  -0.56586343 -0.56582814 -0.5657575\n",
      " -0.5657222  -0.56568694 -0.56565166 -0.565581   -0.56554574 -0.56551045\n",
      " -0.56547517 -0.56540453 -0.56533396 -0.5652987  -0.56526333 -0.56487507\n",
      " -0.564628   -0.5645221  -0.5644162  -0.56438094 -0.56423974 -0.5641691\n",
      " -0.5641338  -0.56406325 -0.56392205 -0.56381613 -0.56378084 -0.5637103\n",
      " -0.56360435 -0.56342787 -0.5632514  -0.5630396  -0.5630043  -0.562969\n",
      " -0.5628984  -0.5628278  -0.5626866  -0.5623689  -0.56201595 -0.5608159\n",
      "  1.732117  ]\n"
     ]
    },
    {
     "data": {
      "image/png": "[encoded data removed]",
      "text/plain": [
       "<Figure size 640x480 with 1 Axes>"
      ]
     },
     "metadata": {},
     "output_type": "display_data"
    }
   ],
   "source": [
    "import matplotlib.pyplot as plt\n",
    "import rasterio\n",
    "import numpy as np\n",
    "\n",
    "def image_normalize(im, axis = (0,1), c = 1e-8):\n",
    "    '''\n",
    "    Normalize to zero mean and unit standard deviation along the given axis'''\n",
    "    return (im - im.mean(axis)) / (im.std(axis) + c)\n",
    "\n",
    "img = rasterio.open(\"/home/winter/code-resources/treeseg/test/interm_png/annotation-0-area0.png\").read(1)\n",
    "print(np.unique(img))\n",
    "plt.imshow(img)\n",
    "plt.show()"
   ]
  },
  {
   "cell_type": "code",
   "execution_count": null,
   "metadata": {},
   "outputs": [],
   "source": []
  }
 ],
 "metadata": {
  "accelerator": "GPU",
  "colab": {
   "authorship_tag": "ABX9TyOeYCBzQRMr8FXNUC8za+ng",
   "collapsed_sections": [],
   "name": "step3-Training.ipynb",
   "provenance": []
  },
  "kernelspec": {
   "display_name": "Python 3.7.13 ('treeseg')",
   "language": "python",
   "name": "python3"
  },
  "language_info": {
   "codemirror_mode": {
    "name": "ipython",
    "version": 3
   },
   "file_extension": ".py",
   "mimetype": "text/x-python",
   "name": "python",
   "nbconvert_exporter": "python",
   "pygments_lexer": "ipython3",
   "version": "3.7.13"
  },
  "vscode": {
   "interpreter": {
    "hash": "ba0c6fa25d8e2d3ce77205862229ed71a79dbd0fb80588254b2a0e2f2cdd970f"
   }
  }
 },
 "nbformat": 4,
 "nbformat_minor": 1
}
