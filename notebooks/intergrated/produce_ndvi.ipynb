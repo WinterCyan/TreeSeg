{
 "cells": [
  {
   "cell_type": "code",
   "execution_count": null,
   "metadata": {},
   "outputs": [],
   "source": [
    "from osgeo import gdal\n",
    "\n",
    "#读取遥感影像数据\n",
    "\n",
    "path='/home/winter/TreeSegment/resources/test1/data/ndvi.tif'\n",
    "\n",
    "ds=gdal.Open(path)\n",
    "\n",
    "num=ds.RasterCount #获取影像波段数\n",
    "\n",
    "#栅格矩阵的列数\n",
    "\n",
    "im_width = ds.RasterXSize\n",
    "\n",
    "#栅格矩阵的行数\n",
    "\n",
    "im_height = ds.RasterYSize\n",
    "\n",
    "#获取仿射矩阵，左上角像素的大地坐标和像素分辨率。\n",
    "\n",
    "#共有六个参数，分表代表左上角x坐标；东西方向上图像的分辨率；如果北边朝上，地图的旋转角度，0表示图像的行与x轴平行；左上角y坐标；\n",
    "\n",
    "#如果北边朝上，地图的旋转角度，0表示图像的列与y轴平行；南北方向上地图的分辨率。\n",
    "\n",
    "im_geotrans = ds.GetGeoTransform()\n",
    "\n",
    "#地图投影信息\n",
    "\n",
    "im_proj = ds.GetProjection()\n",
    "\n",
    "#读取某一像素点的值\n",
    "\n",
    "#读取波段为数组，其参数为波段的索引号，波段索引号从1开始，本文读取影像的前三个波段\n",
    "\n",
    "band=ds.GetRasterBand(1).ReadAsArray()\n",
    "\n",
    "band2=ds.GetRasterBand(2).ReadAsArray()\n",
    "\n",
    "band3=ds.GetRasterBand(3).ReadAsArray()"
   ]
  }
 ],
 "metadata": {
  "kernelspec": {
   "display_name": "Python 3.6.13 ('treeseg2')",
   "language": "python",
   "name": "python3"
  },
  "language_info": {
   "name": "python",
   "version": "3.6.13"
  },
  "orig_nbformat": 4,
  "vscode": {
   "interpreter": {
    "hash": "edf9310dc4afe9c6b3a66754dad7e9b17c34577e8a5e740290b100e6a2da471b"
   }
  }
 },
 "nbformat": 4,
 "nbformat_minor": 2
}
